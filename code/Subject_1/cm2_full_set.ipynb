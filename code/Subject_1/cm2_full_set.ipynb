{
 "cells": [
  {
   "cell_type": "code",
   "execution_count": 1,
   "id": "70e47515-4358-4a62-97cb-e5e36c97ee13",
   "metadata": {},
   "outputs": [],
   "source": [
    "from itertools import combinations"
   ]
  },
  {
   "cell_type": "code",
   "execution_count": 2,
   "id": "de22f171-6633-47a8-b6f2-a38e875d386c",
   "metadata": {},
   "outputs": [],
   "source": [
    "element_list = [\"Co\", \"Cr\", \"Fe\", \"Hf\", \"Ir\", \"Mn\", \"Mo\", \"Ni\", \"Os\", \"Pd\", \"Pt\", \"Rh\", \"Ru\", \"Sn\", \"Ti\", \"V\", \"Zr\"]\n"
   ]
  },
  {
   "cell_type": "code",
   "execution_count": 3,
   "id": "364b7871-56f8-4127-bbdb-bffa0b5501e8",
   "metadata": {},
   "outputs": [],
   "source": [
    "# 新结构比值\n",
    "binary_com = [[\"0.75\",\"0.25\"], [\"0.5\", \"0.5\"]]\n",
    "ternary_com = [0.5, 0.25, 0.25]\n"
   ]
  },
  {
   "cell_type": "code",
   "execution_count": 4,
   "id": "5945e463-e3bd-4ae5-9877-750185a3dd88",
   "metadata": {},
   "outputs": [],
   "source": [
    "full_set = []\n",
    "\n",
    "for i in element_list:\n",
    "    for j in element_list:\n",
    "        if i != j:\n",
    "            a = \"\".join([i, binary_com[0][0], j, binary_com[0][1]])\n",
    "            full_set.append(a)\n",
    "for i in iter(combinations(element_list,2)):\n",
    "    b = \"\".join([i[0], binary_com[1][0], i[1], binary_com[1][1]])\n",
    "    full_set.append(b)\n",
    "            "
   ]
  },
  {
   "cell_type": "code",
   "execution_count": 5,
   "id": "0051fb5e-e19c-438e-816f-402e38a81398",
   "metadata": {},
   "outputs": [],
   "source": [
    "for i in element_list:\n",
    "    dopant = [ele for ele in element_list if ele != i]\n",
    "    for j in iter(combinations(dopant, 2)):\n",
    "        c = \"\".join([i, \"0.5\", j[0], \"0.25\", j[1], \"0.25\"])\n",
    "        full_set.append(c)\n",
    "    "
   ]
  },
  {
   "cell_type": "code",
   "execution_count": 6,
   "id": "4e544e83-2812-49dc-bff6-205e0d5b814b",
   "metadata": {},
   "outputs": [
    {
     "data": {
      "text/plain": [
       "2448"
      ]
     },
     "execution_count": 6,
     "metadata": {},
     "output_type": "execute_result"
    }
   ],
   "source": [
    "len(full_set)"
   ]
  },
  {
   "cell_type": "code",
   "execution_count": 7,
   "id": "56619fa0-b7a0-4edf-bc72-c5d82ad9e5ac",
   "metadata": {},
   "outputs": [],
   "source": [
    "import random\n"
   ]
  },
  {
   "cell_type": "code",
   "execution_count": 8,
   "id": "dc39c790-9818-474e-8c0a-b410f381dc0a",
   "metadata": {},
   "outputs": [],
   "source": [
    "seed = 1\n",
    "random.seed(seed)\n",
    "\n",
    "total_index = [i for i in range(0, 2448)]\n",
    "index_list = random.sample(total_index, 40)"
   ]
  },
  {
   "cell_type": "code",
   "execution_count": 9,
   "id": "a8edf482-4b01-4a99-ae30-4f02c4306a00",
   "metadata": {},
   "outputs": [
    {
     "data": {
      "text/plain": [
       "['Cr0.5Fe0.25Pt0.25',\n",
       " 'Zr0.5Co0.25Ir0.25',\n",
       " 'Zr0.75Fe0.25',\n",
       " 'Mn0.5Fe0.25Rh0.25',\n",
       " 'Co0.5Mo0.25Zr0.25',\n",
       " 'Sn0.5Ir0.25Ru0.25',\n",
       " 'Rh0.5Ru0.25Zr0.25',\n",
       " 'Ru0.5Ni0.25Pt0.25',\n",
       " 'Pd0.5Mn0.25Ni0.25',\n",
       " 'Hf0.5Os0.25Zr0.25',\n",
       " 'Pd0.5Ti0.5',\n",
       " 'Sn0.5Fe0.25Ir0.25',\n",
       " 'Ni0.75Ir0.25',\n",
       " 'Pd0.5Rh0.25V0.25',\n",
       " 'Rh0.5Hf0.25Mo0.25',\n",
       " 'Co0.75Pd0.25',\n",
       " 'Rh0.5Os0.25Ti0.25',\n",
       " 'Mn0.5Ni0.25V0.25',\n",
       " 'Ir0.5Hf0.25Ru0.25',\n",
       " 'Zr0.5Os0.25Pt0.25',\n",
       " 'Co0.5Cr0.25Ru0.25',\n",
       " 'Ni0.5Hf0.25V0.25',\n",
       " 'Ni0.75Ti0.25',\n",
       " 'Mn0.75Ru0.25',\n",
       " 'Mo0.75Pd0.25',\n",
       " 'V0.5Co0.25Pt0.25',\n",
       " 'Fe0.75Mo0.25',\n",
       " 'Pd0.5Mn0.25V0.25',\n",
       " 'Hf0.5V0.25Zr0.25',\n",
       " 'Rh0.5Co0.25Cr0.25',\n",
       " 'Ni0.75Mo0.25',\n",
       " 'Ti0.5Mn0.25V0.25',\n",
       " 'Ir0.5Cr0.25Os0.25',\n",
       " 'Rh0.5Mn0.25Mo0.25',\n",
       " 'Sn0.5Ir0.25Ti0.25',\n",
       " 'V0.5Ir0.25Ni0.25',\n",
       " 'Ir0.5Mo0.25Os0.25',\n",
       " 'Os0.5Hf0.25Pt0.25',\n",
       " 'Ir0.5Mn0.25Pd0.25',\n",
       " 'Ir0.5Co0.25Pt0.25']"
      ]
     },
     "execution_count": 9,
     "metadata": {},
     "output_type": "execute_result"
    }
   ],
   "source": [
    "train_list= []\n",
    "for index in index_list:\n",
    "    train_list.append(full_set[index])\n",
    "\n",
    "train_list"
   ]
  },
  {
   "cell_type": "code",
   "execution_count": null,
   "id": "35ee3bb1-866b-4665-ae95-413c06765f0e",
   "metadata": {},
   "outputs": [],
   "source": []
  }
 ],
 "metadata": {
  "kernelspec": {
   "display_name": "Python 3",
   "language": "python",
   "name": "python3"
  },
  "language_info": {
   "codemirror_mode": {
    "name": "ipython",
    "version": 3
   },
   "file_extension": ".py",
   "mimetype": "text/x-python",
   "name": "python",
   "nbconvert_exporter": "python",
   "pygments_lexer": "ipython3",
   "version": "3.8.8"
  }
 },
 "nbformat": 4,
 "nbformat_minor": 5
}
