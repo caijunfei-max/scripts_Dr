{
 "cells": [
  {
   "cell_type": "code",
   "execution_count": 1,
   "id": "23525e49-8185-42e3-a783-39b79e330ef8",
   "metadata": {},
   "outputs": [],
   "source": [
    "from mp_api.client.mprester import MPRester"
   ]
  },
  {
   "cell_type": "code",
   "execution_count": 25,
   "id": "9661edac-3ecb-441b-b626-592d4fe875f3",
   "metadata": {},
   "outputs": [],
   "source": [
    "from pymatgen.core.periodic_table import Element\n",
    "import pandas as pd\n",
    "import numpy as np\n",
    "import os"
   ]
  },
  {
   "cell_type": "code",
   "execution_count": 3,
   "id": "87a0500d-69f7-4fc7-a590-01c33ff6149c",
   "metadata": {},
   "outputs": [],
   "source": [
    "API_KEY = \"fqPPo7Czb5mkbFh8mltlZd0I33csuKv0\"\n",
    "mpr = MPRester(API_KEY)"
   ]
  },
  {
   "cell_type": "markdown",
   "id": "50d1cda9-5be0-48a8-875d-4a25eb646c88",
   "metadata": {
    "tags": []
   },
   "source": [
    "# 从mateirial project下载数据"
   ]
  },
  {
   "cell_type": "code",
   "execution_count": 50,
   "id": "47decc1e-9eac-42dd-bb17-2f9e6857dca3",
   "metadata": {},
   "outputs": [
    {
     "data": {
      "application/vnd.jupyter.widget-view+json": {
       "model_id": "bd42ae10c02242f3b700692f84a5dc58",
       "version_major": 2,
       "version_minor": 0
      },
      "text/plain": [
       "Retrieving SummaryDoc documents:   0%|          | 0/17066 [00:00<?, ?it/s]"
      ]
     },
     "metadata": {},
     "output_type": "display_data"
    }
   ],
   "source": [
    "#下载所有含有Li，O的结构\n",
    "docs=mpr.summary.search(elements=['Li', 'O'], all_fields=False, fields=['material_id', 'composition_reduced', 'formula_pretty','band_gap', 'symmetry', 'chemsys', 'structure'])"
   ]
  },
  {
   "cell_type": "markdown",
   "id": "d4e1d58b-b13c-4a2e-a18f-9245e9fe64b9",
   "metadata": {
    "tags": []
   },
   "source": [
    "# 函数"
   ]
  },
  {
   "cell_type": "code",
   "execution_count": 57,
   "id": "d3c78cbd-894c-4a98-90d5-a0fab0ab47b1",
   "metadata": {},
   "outputs": [],
   "source": [
    "ele_list = docs[0].chemsys.split('-')\n",
    "# a = [\"O\", \"C\"]\n",
    "def if_tm(element_list):\n",
    "    # 返回体系中是否有过渡金属,输入应尬是一个列表，里面是各个元素的字符串\n",
    "    for ele in element_list:\n",
    "        if 'd' in Element(ele).electronic_structure:\n",
    "            tm = 1\n",
    "            break\n",
    "        else:\n",
    "            tm = 0\n",
    "    return bool(tm)\n",
    "\n",
    "def tm_number(composition):\n",
    "    #返回结构中过渡金属的化学计量，输入应为上面爬的数据中的composition_reduced属性\n",
    "    #前置库：pymatgen.periodic_table.Element\n",
    "    tm = []\n",
    "    ele_dict= composition.as_dict()\n",
    "    ele = list(ele_dict.keys())\n",
    "    for i in ele: \n",
    "        if 'd' in Element(i).electronic_structure:\n",
    "            tm.append(i)\n",
    "    stoihiometry_tm = 0\n",
    "    for ele in tm:\n",
    "        stoihiometry_tm += int(ele_dict[ele])\n",
    "    return stoihiometry_tm\n",
    "\n"
   ]
  },
  {
   "cell_type": "markdown",
   "id": "837a5761-0f3f-45cd-9337-7ced0325e37f",
   "metadata": {},
   "source": []
  },
  {
   "cell_type": "code",
   "execution_count": 58,
   "id": "453f3d7d-576b-41f6-8d5f-a5280c046ab1",
   "metadata": {},
   "outputs": [],
   "source": [
    "#选择具有过渡金属且锂原子更多的结构（c2/m）\n",
    "rich_lithium_docs_c2m = []\n",
    "for i in docs:\n",
    "    ele_list = i.chemsys.split('-')\n",
    "    stoichiometry_li = int(i.composition_reduced.as_dict()[\"Li\"])\n",
    "    stoichiometry_tm = tm_number(i.composition_reduced)\n",
    "    crystral_system = i.symmetry.symbol\n",
    "    if if_tm(ele_list)==True and stoichiometry_li > stoichiometry_tm and crystral_system ==\"C2/m\":\n",
    "        rich_lithium_docs_c2m.append(i)"
   ]
  },
  {
   "cell_type": "code",
   "execution_count": 59,
   "id": "741e831c-d5e4-4398-aa74-9780b34b4043",
   "metadata": {},
   "outputs": [],
   "source": [
    "df = pd.DataFrame(columns=['formula', 'mp_id', 'crystal system', 'band_gap'])\n",
    "for i in rich_lithium_docs_c2m:\n",
    "    data=[i.formula_pretty, i.material_id.string, i.symmetry.symbol, i.band_gap]\n",
    "    df.loc[len(df)]=data"
   ]
  },
  {
   "cell_type": "code",
   "execution_count": 60,
   "id": "cfef0941-27b9-408a-ab9b-3d8908411825",
   "metadata": {},
   "outputs": [
    {
     "data": {
      "text/html": [
       "<div>\n",
       "<style scoped>\n",
       "    .dataframe tbody tr th:only-of-type {\n",
       "        vertical-align: middle;\n",
       "    }\n",
       "\n",
       "    .dataframe tbody tr th {\n",
       "        vertical-align: top;\n",
       "    }\n",
       "\n",
       "    .dataframe thead th {\n",
       "        text-align: right;\n",
       "    }\n",
       "</style>\n",
       "<table border=\"1\" class=\"dataframe\">\n",
       "  <thead>\n",
       "    <tr style=\"text-align: right;\">\n",
       "      <th></th>\n",
       "      <th>formula</th>\n",
       "      <th>mp_id</th>\n",
       "      <th>crystal system</th>\n",
       "      <th>band_gap</th>\n",
       "    </tr>\n",
       "  </thead>\n",
       "  <tbody>\n",
       "    <tr>\n",
       "      <th>0</th>\n",
       "      <td>Li5Mn3O8</td>\n",
       "      <td>mp-1174546</td>\n",
       "      <td>C2/m</td>\n",
       "      <td>0.0000</td>\n",
       "    </tr>\n",
       "    <tr>\n",
       "      <th>1</th>\n",
       "      <td>Li3MnP2H2O9</td>\n",
       "      <td>mp-780319</td>\n",
       "      <td>C2/m</td>\n",
       "      <td>0.8976</td>\n",
       "    </tr>\n",
       "    <tr>\n",
       "      <th>2</th>\n",
       "      <td>Li5Mn(CoO4)2</td>\n",
       "      <td>mp-1174160</td>\n",
       "      <td>C2/m</td>\n",
       "      <td>0.0000</td>\n",
       "    </tr>\n",
       "    <tr>\n",
       "      <th>3</th>\n",
       "      <td>Li9Mn2Co5O16</td>\n",
       "      <td>mp-1176312</td>\n",
       "      <td>C2/m</td>\n",
       "      <td>0.0000</td>\n",
       "    </tr>\n",
       "    <tr>\n",
       "      <th>4</th>\n",
       "      <td>Li7Mn2(CoO4)3</td>\n",
       "      <td>mp-1174510</td>\n",
       "      <td>C2/m</td>\n",
       "      <td>0.0000</td>\n",
       "    </tr>\n",
       "    <tr>\n",
       "      <th>...</th>\n",
       "      <td>...</td>\n",
       "      <td>...</td>\n",
       "      <td>...</td>\n",
       "      <td>...</td>\n",
       "    </tr>\n",
       "    <tr>\n",
       "      <th>393</th>\n",
       "      <td>Li3MnCoO5</td>\n",
       "      <td>mp-1174029</td>\n",
       "      <td>C2/m</td>\n",
       "      <td>1.0549</td>\n",
       "    </tr>\n",
       "    <tr>\n",
       "      <th>394</th>\n",
       "      <td>Li9Mn2Co5O16</td>\n",
       "      <td>mp-1100747</td>\n",
       "      <td>C2/m</td>\n",
       "      <td>0.0000</td>\n",
       "    </tr>\n",
       "    <tr>\n",
       "      <th>395</th>\n",
       "      <td>Li3V2(O2F)2</td>\n",
       "      <td>mp-760200</td>\n",
       "      <td>C2/m</td>\n",
       "      <td>0.0000</td>\n",
       "    </tr>\n",
       "    <tr>\n",
       "      <th>396</th>\n",
       "      <td>Li2RuO3</td>\n",
       "      <td>mp-4630</td>\n",
       "      <td>C2/m</td>\n",
       "      <td>0.0000</td>\n",
       "    </tr>\n",
       "    <tr>\n",
       "      <th>397</th>\n",
       "      <td>Li3(FeO3)2</td>\n",
       "      <td>mp-752654</td>\n",
       "      <td>C2/m</td>\n",
       "      <td>0.0000</td>\n",
       "    </tr>\n",
       "  </tbody>\n",
       "</table>\n",
       "<p>398 rows × 4 columns</p>\n",
       "</div>"
      ],
      "text/plain": [
       "           formula       mp_id crystal system  band_gap\n",
       "0         Li5Mn3O8  mp-1174546           C2/m    0.0000\n",
       "1      Li3MnP2H2O9   mp-780319           C2/m    0.8976\n",
       "2     Li5Mn(CoO4)2  mp-1174160           C2/m    0.0000\n",
       "3     Li9Mn2Co5O16  mp-1176312           C2/m    0.0000\n",
       "4    Li7Mn2(CoO4)3  mp-1174510           C2/m    0.0000\n",
       "..             ...         ...            ...       ...\n",
       "393      Li3MnCoO5  mp-1174029           C2/m    1.0549\n",
       "394   Li9Mn2Co5O16  mp-1100747           C2/m    0.0000\n",
       "395    Li3V2(O2F)2   mp-760200           C2/m    0.0000\n",
       "396        Li2RuO3     mp-4630           C2/m    0.0000\n",
       "397     Li3(FeO3)2   mp-752654           C2/m    0.0000\n",
       "\n",
       "[398 rows x 4 columns]"
      ]
     },
     "execution_count": 60,
     "metadata": {},
     "output_type": "execute_result"
    }
   ],
   "source": [
    "df"
   ]
  },
  {
   "cell_type": "code",
   "execution_count": 124,
   "id": "8c4f7da1-08e6-484f-8e21-38cadb251086",
   "metadata": {},
   "outputs": [],
   "source": [
    "df_gap = df[['mp_id','band_gap']]\n",
    "\n"
   ]
  },
  {
   "cell_type": "code",
   "execution_count": 82,
   "id": "ed1f6a7f-7368-441c-88a5-171fa607d754",
   "metadata": {},
   "outputs": [
    {
     "data": {
      "text/plain": [
       "0     q\n",
       "1     w\n",
       "2     q\n",
       "3     q\n",
       "4     q\n",
       "5     w\n",
       "6     q\n",
       "7     w\n",
       "8     w\n",
       "9     w\n",
       "10    w\n",
       "Name: band_gap, dtype: category\n",
       "Categories (2, object): ['q' < 'w']"
      ]
     },
     "execution_count": 82,
     "metadata": {},
     "output_type": "execute_result"
    }
   ],
   "source": [
    "\n",
    "a = pd.cut(test, [-1, 0,10 ], labels=['q','w'])\n",
    "a"
   ]
  },
  {
   "cell_type": "code",
   "execution_count": 48,
   "id": "56a269dd-85c7-4e7e-a4a8-6bbc27844faa",
   "metadata": {},
   "outputs": [],
   "source": [
    "df_gap.to_csv(\"c2m.csv\", index=False, header=False)"
   ]
  },
  {
   "cell_type": "code",
   "execution_count": 125,
   "id": "fec5f27b-15b1-4092-b724-c6ed66646515",
   "metadata": {},
   "outputs": [
    {
     "name": "stderr",
     "output_type": "stream",
     "text": [
      "\n",
      "A value is trying to be set on a copy of a slice from a DataFrame.\n",
      "Try using .loc[row_indexer,col_indexer] = value instead\n",
      "\n",
      "See the caveats in the documentation: https://pandas.pydata.org/pandas-docs/stable/user_guide/indexing.html#returning-a-view-versus-a-copy\n"
     ]
    }
   ],
   "source": [
    "# 离散化数据, 0代表金属导体，1代表半导体，2代表\n",
    "df_discrete = df_gap\n",
    "data_discrete = pd.cut(df_discrete['band_gap'], [-1, 0, 8], labels=['0', '1'])\n",
    "df_discrete['band_gap']= data_discrete"
   ]
  },
  {
   "cell_type": "code",
   "execution_count": 126,
   "id": "a871faef-b5a0-4e53-9481-3a1ad4521929",
   "metadata": {},
   "outputs": [],
   "source": [
    "df_discrete.to_csv(\"c2m_discrete.csv\", index=False, header=False)"
   ]
  },
  {
   "cell_type": "code",
   "execution_count": 61,
   "id": "27cfe233-d535-478f-999e-2e86e367fae8",
   "metadata": {},
   "outputs": [],
   "source": [
    "# 把富锂材料结构存为cif形式\n",
    "for struct in rich_lithium_docs_c2m:\n",
    "    mp_id = struct.material_id.string.split('-')[1]\n",
    "    struct.structure.to('data_c2m/'+mp_id+'.cif')"
   ]
  },
  {
   "cell_type": "code",
   "execution_count": 127,
   "id": "ad28a650-6a8c-4476-b44f-ce54acc18476",
   "metadata": {},
   "outputs": [],
   "source": [
    "from matminer.datasets import load_dataset"
   ]
  },
  {
   "cell_type": "code",
   "execution_count": 138,
   "id": "9762b324-6194-44d9-bf33-99d534b0a66f",
   "metadata": {},
   "outputs": [],
   "source": [
    "from matminer.featurizers.composition import ElementProperty\n",
    "from matminer.featurizers.structure import GlobalSymmetryFeatures\n",
    "from matminer.featurizers.composition import Meredig"
   ]
  }
 ],
 "metadata": {
  "kernelspec": {
   "display_name": "Python 3",
   "language": "python",
   "name": "python3"
  },
  "language_info": {
   "codemirror_mode": {
    "name": "ipython",
    "version": 3
   },
   "file_extension": ".py",
   "mimetype": "text/x-python",
   "name": "python",
   "nbconvert_exporter": "python",
   "pygments_lexer": "ipython3",
   "version": "3.10.9"
  }
 },
 "nbformat": 4,
 "nbformat_minor": 5
}
