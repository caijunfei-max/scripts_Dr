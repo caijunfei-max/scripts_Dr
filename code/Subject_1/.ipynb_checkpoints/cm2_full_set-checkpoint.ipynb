{
 "cells": [
  {
   "cell_type": "code",
   "execution_count": 44,
   "id": "70e47515-4358-4a62-97cb-e5e36c97ee13",
   "metadata": {},
   "outputs": [],
   "source": [
    "from itertools import combinations"
   ]
  },
  {
   "cell_type": "code",
   "execution_count": 45,
   "id": "de22f171-6633-47a8-b6f2-a38e875d386c",
   "metadata": {},
   "outputs": [],
   "source": [
    "element_list = [\"Co\", \"Cr\", \"Fe\", \"Hf\", \"Ir\", \"Mn\", \"Mo\", \"Ni\", \"Os\", \"Pd\", \"Pt\", \"Rh\", \"Ru\", \"Sn\", \"Ti\", \"V\", \"Zr\"]\n"
   ]
  },
  {
   "cell_type": "code",
   "execution_count": 46,
   "id": "364b7871-56f8-4127-bbdb-bffa0b5501e8",
   "metadata": {},
   "outputs": [],
   "source": [
    "# 新结构比值\n",
    "binary_com = [[\"0.75\",\"0.25\"], [\"0.5\", \"0.5\"]]\n",
    "ternary_com = [0.5, 0.25, 0.25]\n"
   ]
  },
  {
   "cell_type": "code",
   "execution_count": 47,
   "id": "5945e463-e3bd-4ae5-9877-750185a3dd88",
   "metadata": {},
   "outputs": [],
   "source": [
    "full_set = []\n",
    "\n",
    "for i in element_list:\n",
    "    for j in element_list:\n",
    "        if i != j:\n",
    "            a = \"\".join([i, binary_com[0][0], j, binary_com[0][1]])\n",
    "            full_set.append(a)\n",
    "for i in iter(combinations(element_list,2)):\n",
    "    b = \"\".join([i[0], binary_com[1][0], i[1], binary_com[1][1]])\n",
    "    full_set.append(b)\n",
    "            "
   ]
  },
  {
   "cell_type": "code",
   "execution_count": 48,
   "id": "0051fb5e-e19c-438e-816f-402e38a81398",
   "metadata": {},
   "outputs": [],
   "source": [
    "for i in element_list:\n",
    "    dopant = [ele for ele in element_list if ele != i]\n",
    "    for j in iter(combinations(dopant, 2)):\n",
    "        c = \"\".join([i, \"0.5\", j[0], \"0.25\", j[1], \"0.25\"])\n",
    "        full_set.append(c)\n",
    "    "
   ]
  },
  {
   "cell_type": "code",
   "execution_count": 49,
   "id": "4e544e83-2812-49dc-bff6-205e0d5b814b",
   "metadata": {},
   "outputs": [
    {
     "data": {
      "text/plain": [
       "2448"
      ]
     },
     "execution_count": 49,
     "metadata": {},
     "output_type": "execute_result"
    }
   ],
   "source": [
    "len(full_set)"
   ]
  }
 ],
 "metadata": {
  "kernelspec": {
   "display_name": "Python 3",
   "language": "python",
   "name": "python3"
  },
  "language_info": {
   "codemirror_mode": {
    "name": "ipython",
    "version": 3
   },
   "file_extension": ".py",
   "mimetype": "text/x-python",
   "name": "python",
   "nbconvert_exporter": "python",
   "pygments_lexer": "ipython3",
   "version": "3.10.9"
  }
 },
 "nbformat": 4,
 "nbformat_minor": 5
}
