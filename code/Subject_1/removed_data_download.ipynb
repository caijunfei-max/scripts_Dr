{
 "cells": [
  {
   "cell_type": "markdown",
   "id": "9c13a5e0-35b7-47a3-b9d1-ccbffb41f633",
   "metadata": {},
   "source": [
    "下载结构并存在init_data中，并且随机选择60个进行初始的计算"
   ]
  },
  {
   "cell_type": "code",
   "execution_count": 1,
   "id": "32877cdc-0233-47bf-a549-b2e7d2efa267",
   "metadata": {},
   "outputs": [],
   "source": [
    "from mp_api.client.mprester import MPRester"
   ]
  },
  {
   "cell_type": "code",
   "execution_count": 34,
   "id": "78b33f6b-6fc4-4405-9f2f-e372b2f7a30f",
   "metadata": {},
   "outputs": [],
   "source": [
    "from pymatgen.core import Structure\n",
    "import pandas as pd\n",
    "import numpy as np"
   ]
  },
  {
   "cell_type": "code",
   "execution_count": 3,
   "id": "5e1f1d3a-487c-456a-bc2d-46648bb6c7a2",
   "metadata": {},
   "outputs": [],
   "source": [
    "API_KEY = \"fqPPo7Czb5mkbFh8mltlZd0I33csuKv0\"\n",
    "mpr = MPRester(API_KEY)"
   ]
  },
  {
   "cell_type": "markdown",
   "id": "c1d91e45-8953-4c50-8dcd-0c2cd4a8ce3c",
   "metadata": {},
   "source": [
    "随机挑选60个数据用于计算aimd"
   ]
  },
  {
   "cell_type": "code",
   "execution_count": 2,
   "id": "4d294cf9-3148-4024-8232-cd516892e85e",
   "metadata": {},
   "outputs": [],
   "source": [
    "import random\n",
    "seed = 1\n",
    "random.seed(seed)"
   ]
  },
  {
   "cell_type": "code",
   "execution_count": 44,
   "id": "6539cec3-03b6-4b2f-b4b7-717043c7a40f",
   "metadata": {},
   "outputs": [],
   "source": [
    "battery_data = pd.read_csv(\"mp_battery_data.csv\")\n",
    "charge_discharge_dict = dict()\n",
    "for i in range(len(battery_data)):\n",
    "    charge_discharge_dict.update({battery_data[\"charge_id\"][i]: battery_data[\"discharge_id\"][i]})\n"
   ]
  },
  {
   "cell_type": "code",
   "execution_count": 45,
   "id": "bd361d46-cdf7-4b4c-9107-4f2c562c467b",
   "metadata": {},
   "outputs": [],
   "source": [
    "discharge_id = []\n",
    "charge_id = []\n",
    "for key, value in charge_discharge_dict.items():\n",
    "    discharge_id.append(value)\n",
    "    charge_id.append(key)\n"
   ]
  },
  {
   "cell_type": "code",
   "execution_count": 46,
   "id": "c1791585-0dd5-4d81-a907-9da0cb59f1ca",
   "metadata": {},
   "outputs": [
    {
     "data": {
      "application/vnd.jupyter.widget-view+json": {
       "model_id": "62bfe40d026e4ea7a8268ac713baa489",
       "version_major": 2,
       "version_minor": 0
      },
      "text/plain": [
       "Retrieving SummaryDoc documents:   0%|          | 0/2426 [00:00<?, ?it/s]"
      ]
     },
     "metadata": {},
     "output_type": "display_data"
    }
   ],
   "source": [
    "docs_discharged = mpr.summary.search(material_ids=discharge_id, all_fields=False, fields=['material_id','formula_pretty', 'structure', 'symmetry'])\n",
    "# docs_charged = mpr.summary.search(material_ids=[charge_id], all_fields=False, fields=['formula_pretty', 'structure', 'symmetry'])"
   ]
  },
  {
   "cell_type": "code",
   "execution_count": 47,
   "id": "e1f5ef85-9dc0-4855-8798-05f4afe92e8f",
   "metadata": {},
   "outputs": [],
   "source": [
    "for i in docs_discharged:\n",
    "    struct_name = \"\".join(['init_data/', i.formula_pretty, '.cif'])\n",
    "    struct = i.structure.to(struct_name)"
   ]
  },
  {
   "cell_type": "code",
   "execution_count": 26,
   "id": "969a4c94-f2e6-4b41-9ccd-ceed1c7d6c2c",
   "metadata": {},
   "outputs": [],
   "source": [
    "index_list = [i for i in range(len(docs))]\n",
    "struct_index = random.sample()"
   ]
  },
  {
   "cell_type": "code",
   "execution_count": 43,
   "id": "4b85e8f7-6cd8-4942-a4cc-675a78f8e2ce",
   "metadata": {},
   "outputs": [
    {
     "name": "stdout",
     "output_type": "stream",
     "text": [
      "1\n",
      "2\n",
      "3\n",
      "4\n",
      "5\n",
      "6\n",
      "7\n",
      "8\n",
      "9\n",
      "10\n",
      "11\n",
      "12\n",
      "13\n",
      "14\n",
      "15\n",
      "16\n",
      "17\n",
      "18\n",
      "19\n",
      "20\n",
      "21\n",
      "22\n",
      "23\n",
      "24\n",
      "25\n",
      "26\n",
      "27\n",
      "28\n",
      "29\n",
      "30\n",
      "31\n",
      "32\n",
      "33\n",
      "34\n",
      "35\n",
      "36\n",
      "37\n",
      "38\n",
      "39\n",
      "40\n",
      "41\n",
      "42\n",
      "43\n",
      "44\n",
      "45\n",
      "46\n",
      "47\n",
      "48\n",
      "49\n",
      "50\n",
      "51\n",
      "52\n",
      "53\n",
      "54\n",
      "55\n",
      "56\n",
      "57\n",
      "58\n",
      "59\n",
      "60\n"
     ]
    }
   ],
   "source": [
    "import shutil\n",
    "i = 0\n",
    "for index in struct_index:\n",
    "    struc_name = \"\".join(['init_data/', docs[index].formula_pretty, '.cif'])\n",
    "    to_name = \"\".join(['round_1/', docs[index].formula_pretty, '.cif'])\n",
    "    shutil.copy(struc_name, to_name)\n",
    "    i += 1\n"
   ]
  }
 ],
 "metadata": {
  "kernelspec": {
   "display_name": "Python 3",
   "language": "python",
   "name": "python3"
  },
  "language_info": {
   "codemirror_mode": {
    "name": "ipython",
    "version": 3
   },
   "file_extension": ".py",
   "mimetype": "text/x-python",
   "name": "python",
   "nbconvert_exporter": "python",
   "pygments_lexer": "ipython3",
   "version": "3.8.8"
  }
 },
 "nbformat": 4,
 "nbformat_minor": 5
}
