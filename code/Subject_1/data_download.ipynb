{
 "cells": [
  {
   "cell_type": "code",
   "execution_count": 10,
   "id": "21f1d360-0242-423b-8270-fc9b3bed750d",
   "metadata": {},
   "outputs": [],
   "source": [
    "from mp_api.client import routes\n",
    "from pymatgen.core.periodic_table import Element"
   ]
  },
  {
   "cell_type": "code",
   "execution_count": 11,
   "id": "18f38455-1fa3-4837-b71a-61f5b1eaf6e0",
   "metadata": {},
   "outputs": [],
   "source": [
    "API_KEY = \"fqPPo7Czb5mkbFh8mltlZd0I33csuKv0\"\n",
    "bpr = routes.ElectrodeRester(API_KEY)"
   ]
  },
  {
   "cell_type": "code",
   "execution_count": 7,
   "id": "edb2618b-e3ff-4f3b-91a2-ef1294745c22",
   "metadata": {},
   "outputs": [
    {
     "data": {
      "text/plain": [
       "'2023.11.1'"
      ]
     },
     "execution_count": 7,
     "metadata": {},
     "output_type": "execute_result"
    }
   ],
   "source": [
    "# version of MP database\n",
    "mpr.get_database_version()"
   ]
  },
  {
   "cell_type": "code",
   "execution_count": 9,
   "id": "9afed6ea-cef1-4881-b8e9-4dce79196ae5",
   "metadata": {
    "collapsed": true,
    "jupyter": {
     "outputs_hidden": true,
     "source_hidden": true
    },
    "tags": []
   },
   "outputs": [
    {
     "data": {
      "application/vnd.jupyter.widget-view+json": {
       "model_id": "5ebf6f96eaed4a00ab14858f2fc942e7",
       "version_major": 2,
       "version_minor": 0
      },
      "text/plain": [
       "Retrieving SummaryDoc documents:   0%|          | 0/852 [00:00<?, ?it/s]"
      ]
     },
     "metadata": {},
     "output_type": "display_data"
    }
   ],
   "source": [
    "# 根据chemsys_list来查询mp中相关的所有结构\n",
    "# docs=mpr.summary.search(chemsys=chemsys_list, all_fields=False,  num_sites=(40, 100), energy_above_hull=(0, 0.1), fields=[\"material_id\", \"formula_pretty\", \"nsites\", \"symmetry\", \"formation_energy_per_atom\", \"is_stable\"])"
   ]
  },
  {
   "cell_type": "code",
   "execution_count": null,
   "id": "19b5be3f-80b5-4539-84b5-01c75f1c6c3c",
   "metadata": {},
   "outputs": [
    {
     "data": {
      "application/vnd.jupyter.widget-view+json": {
       "model_id": "7ca36d8bbe534560bd1e3bc9a01d9e41",
       "version_major": 2,
       "version_minor": 0
      },
      "text/plain": [
       "Retrieving InsertionElectrodeDoc documents:   0%|          | 0/2440 [00:00<?, ?it/s]"
      ]
     },
     "metadata": {},
     "output_type": "display_data"
    }
   ],
   "source": [
    "docs = bpr.search(working_ion=Element('Li'), all_fields=True)"
   ]
  },
  {
   "cell_type": "code",
   "execution_count": 17,
   "id": "db8d9230-3c4a-4fe0-8cab-38273a4f28c8",
   "metadata": {},
   "outputs": [
    {
     "data": {
      "text/plain": [
       "\u001b[4m\u001b[1mMPDataDoc<InsertionElectrodeDoc>\u001b[0;0m\u001b[0;0m(\n",
       "\u001b[1mbattery_id\u001b[0;0m='mp-753047_Li',\n",
       "\u001b[1mbattery_formula\u001b[0;0m='Li1-2CoNiO4',\n",
       "\u001b[1mworking_ion\u001b[0;0m=Element Li,\n",
       "\u001b[1mnum_steps\u001b[0;0m=1,\n",
       "\u001b[1mmax_voltage_step\u001b[0;0m=0.0,\n",
       "\u001b[1mlast_updated\u001b[0;0m=datetime.datetime(2022, 6, 28, 3, 50, 55, 322000),\n",
       "\u001b[1mframework\u001b[0;0m=Comp: Co1 Ni1 O4,\n",
       "\u001b[1mframework_formula\u001b[0;0m='CoNiO4',\n",
       "\u001b[1melements\u001b[0;0m=[Element Co, Element Ni, Element O],\n",
       "\u001b[1mnelements\u001b[0;0m=3,\n",
       "\u001b[1mchemsys\u001b[0;0m='Co-Ni-O',\n",
       "\u001b[1mformula_anonymous\u001b[0;0m='ABC4',\n",
       "\u001b[1mwarnings\u001b[0;0m=[],\n",
       "\u001b[1mformula_charge\u001b[0;0m='LiCoNiO4',\n",
       "\u001b[1mformula_discharge\u001b[0;0m='Li2CoNiO4',\n",
       "\u001b[1mmax_delta_volume\u001b[0;0m=0.04218560461693888,\n",
       "\u001b[1maverage_voltage\u001b[0;0m=3.371941503333329,\n",
       "\u001b[1mcapacity_grav\u001b[0;0m=137.08763113805108,\n",
       "\u001b[1mcapacity_vol\u001b[0;0m=653.5092993789779,\n",
       "\u001b[1menergy_grav\u001b[0;0m=462.2514730280448,\n",
       "\u001b[1menergy_vol\u001b[0;0m=2203.5951293902613,\n",
       "\u001b[1mfracA_charge\u001b[0;0m=0.14285714285714285,\n",
       "\u001b[1mfracA_discharge\u001b[0;0m=0.25,\n",
       "\u001b[1mstability_charge\u001b[0;0m=0.0,\n",
       "\u001b[1mstability_discharge\u001b[0;0m=0.017019385624999828,\n",
       "\u001b[1mid_charge\u001b[0;0m=MPID(mp-754509),\n",
       "\u001b[1mid_discharge\u001b[0;0m=MPID(mp-753536),\n",
       "\u001b[1mhost_structure\u001b[0;0m=Structure Summary\n",
       "Lattice\n",
       "    abc : 5.692275219521804 5.692275219521804 5.692275219521804\n",
       " angles : 119.95572684169043 119.7685878701071 90.23899282249465\n",
       " volume : 130.6896053790317\n",
       "      A : -2.848042 2.856087 4.016643\n",
       "      B : 2.848042 -2.856087 4.016643\n",
       "      C : 2.848042 2.856087 -4.016643\n",
       "    pbc : True True True\n",
       "PeriodicSite: Co (2.8480, 0.0000, 0.0000) [0.0000, 0.5000, 0.5000]\n",
       "PeriodicSite: Co (0.0000, 0.0000, 4.0166) [0.5000, 0.5000, 0.0000]\n",
       "PeriodicSite: Ni (1.4240, 1.4280, 2.0083) [0.5000, 0.5000, 0.5000]\n",
       "PeriodicSite: Ni (-1.4240, 1.4280, 2.0083) [0.5000, 0.0000, 0.0000]\n",
       "PeriodicSite: O (1.5754, 1.4280, 0.1246) [0.2655, 0.2921, 0.5266]\n",
       "PeriodicSite: O (2.8480, 0.1698, 1.9101) [0.2675, 0.7378, 0.5297]\n",
       "PeriodicSite: O (2.8480, 2.6863, 1.9101) [0.7080, 0.7378, 0.9703]\n",
       "PeriodicSite: O (4.1207, 1.4280, 0.1246) [0.2655, 0.7389, 0.9734]\n",
       "PeriodicSite: O (-1.2726, 1.4280, 3.8920) [0.7345, 0.2611, 0.0266]\n",
       "PeriodicSite: O (0.0000, 2.6863, 2.1066) [0.7325, 0.2622, 0.4703]\n",
       "PeriodicSite: O (-0.0000, 0.1698, 2.1066) [0.2920, 0.2622, 0.0297]\n",
       "PeriodicSite: O (1.2726, 1.4280, 3.8920) [0.7345, 0.7079, 0.4734],\n",
       "\u001b[1madj_pairs\u001b[0;0m=[InsertionVoltagePairDoc(formula_charge='LiCoNiO4', formula_discharge='Li2CoNiO4', max_delta_volume=0.04218560461693888, average_voltage=3.371941503333329, capacity_grav=137.08763113805108, capacity_vol=653.5092993789779, energy_grav=462.2514730280448, energy_vol=2203.5951293902613, fracA_charge=0.14285714285714285, fracA_discharge=0.25, stability_charge=0.0, stability_discharge=0.017019385624999828, id_charge=MPID(mp-754509), id_discharge=MPID(mp-753536))],\n",
       "\u001b[1mmaterial_ids\u001b[0;0m=[MPID(mp-754509), MPID(mp-753536), MPID(mp-753047), MPID(mp-755212), MPID(mp-779959)],\n",
       "\u001b[1mentries_composition_summary\u001b[0;0m=EntriesCompositionSummary(all_formulas=['Li2CoNiO4', 'LiCoNiO4'], all_chemsys=['Co-Li-Ni-O'], all_formula_anonymous=['ABCD4', 'ABC2D4'], all_elements=[Element Li, Element Co, Element Ni, Element O], all_composition_reduced={'Li': [1.0, 2.0], 'Co': [1.0], 'Ni': [1.0], 'O': [4.0]}),\n",
       "\u001b[1melectrode_object\u001b[0;0m=InsertionElectrode with endpoints at LiCoNiO4 and Li2CoNiO4\n",
       "Avg. volt. = 3.371941503333329 V\n",
       "Grav. cap. = 137.08763113805108 mAh/g\n",
       "Vol. cap. = 653.5092993789779,\n",
       "\u001b[1mfields_not_requested\u001b[0;0m=['battery_type', 'thermo_type']\n",
       ")"
      ]
     },
     "execution_count": 17,
     "metadata": {},
     "output_type": "execute_result"
    }
   ],
   "source": [
    "docs[0]"
   ]
  },
  {
   "cell_type": "code",
   "execution_count": 18,
   "id": "0c318dea-35a9-4e12-8370-d4b8f00ef7a0",
   "metadata": {},
   "outputs": [],
   "source": [
    "formula_battery = []\n",
    "id_battery = []\n",
    "id_charge = []\n",
    "id_discharge = []\n",
    "for i in range(len(docs)):\n",
    "    id_battery.append(docs[i].battery_id)\n",
    "    formula_battery.append(docs[i].battery_formula)\n",
    "    id_charge.append(docs[i].id_charge)\n",
    "    id_discharge.append(docs[i].id_discharge)"
   ]
  },
  {
   "cell_type": "code",
   "execution_count": 25,
   "id": "524a3321-6cfd-42e4-bcb3-1626317758af",
   "metadata": {},
   "outputs": [
    {
     "data": {
      "text/html": [
       "<div>\n",
       "<style scoped>\n",
       "    .dataframe tbody tr th:only-of-type {\n",
       "        vertical-align: middle;\n",
       "    }\n",
       "\n",
       "    .dataframe tbody tr th {\n",
       "        vertical-align: top;\n",
       "    }\n",
       "\n",
       "    .dataframe thead th {\n",
       "        text-align: right;\n",
       "    }\n",
       "</style>\n",
       "<table border=\"1\" class=\"dataframe\">\n",
       "  <thead>\n",
       "    <tr style=\"text-align: right;\">\n",
       "      <th></th>\n",
       "      <th>battery_formula</th>\n",
       "      <th>battery_id</th>\n",
       "      <th>charge_id</th>\n",
       "      <th>discharge_id</th>\n",
       "    </tr>\n",
       "  </thead>\n",
       "  <tbody>\n",
       "    <tr>\n",
       "      <th>0</th>\n",
       "      <td>Li1-2CoNiO4</td>\n",
       "      <td>mp-753047_Li</td>\n",
       "      <td>mp-754509</td>\n",
       "      <td>mp-753536</td>\n",
       "    </tr>\n",
       "    <tr>\n",
       "      <th>1</th>\n",
       "      <td>Li0-1In2CuSe4</td>\n",
       "      <td>mp-1078168_Li</td>\n",
       "      <td>mp-1078168</td>\n",
       "      <td>mp-1079491</td>\n",
       "    </tr>\n",
       "    <tr>\n",
       "      <th>2</th>\n",
       "      <td>Li2-4CoNi3O8</td>\n",
       "      <td>mp-757871_Li</td>\n",
       "      <td>mp-1178027</td>\n",
       "      <td>mp-867640</td>\n",
       "    </tr>\n",
       "    <tr>\n",
       "      <th>3</th>\n",
       "      <td>Li0-4Fe3Cu(PO4)4</td>\n",
       "      <td>mp-775191_Li</td>\n",
       "      <td>mp-775191</td>\n",
       "      <td>mp-1177485</td>\n",
       "    </tr>\n",
       "    <tr>\n",
       "      <th>4</th>\n",
       "      <td>Li0-1FeCuS2</td>\n",
       "      <td>mp-753211_Li</td>\n",
       "      <td>mp-753211</td>\n",
       "      <td>mp-755288</td>\n",
       "    </tr>\n",
       "    <tr>\n",
       "      <th>...</th>\n",
       "      <td>...</td>\n",
       "      <td>...</td>\n",
       "      <td>...</td>\n",
       "      <td>...</td>\n",
       "    </tr>\n",
       "    <tr>\n",
       "      <th>2435</th>\n",
       "      <td>Li0-1NiP2O7</td>\n",
       "      <td>mp-26785_Li</td>\n",
       "      <td>mp-26786</td>\n",
       "      <td>mp-26785</td>\n",
       "    </tr>\n",
       "    <tr>\n",
       "      <th>2436</th>\n",
       "      <td>Li0-3Ni3(PO4)4</td>\n",
       "      <td>mp-504236_Li</td>\n",
       "      <td>mp-1101533</td>\n",
       "      <td>mp-504236</td>\n",
       "    </tr>\n",
       "    <tr>\n",
       "      <th>2437</th>\n",
       "      <td>Li1-2NiP2O7</td>\n",
       "      <td>mp-758298_Li</td>\n",
       "      <td>mp-766087</td>\n",
       "      <td>mp-758298</td>\n",
       "    </tr>\n",
       "    <tr>\n",
       "      <th>2438</th>\n",
       "      <td>Li0-2Ni(PO3)4</td>\n",
       "      <td>mp-26195_Li</td>\n",
       "      <td>mp-504269</td>\n",
       "      <td>mp-26195</td>\n",
       "    </tr>\n",
       "    <tr>\n",
       "      <th>2439</th>\n",
       "      <td>Li0-1NiP2O7</td>\n",
       "      <td>mp-32363_Li</td>\n",
       "      <td>mp-32363</td>\n",
       "      <td>mp-705331</td>\n",
       "    </tr>\n",
       "  </tbody>\n",
       "</table>\n",
       "<p>2440 rows × 4 columns</p>\n",
       "</div>"
      ],
      "text/plain": [
       "       battery_formula     battery_id   charge_id discharge_id\n",
       "0          Li1-2CoNiO4   mp-753047_Li   mp-754509    mp-753536\n",
       "1        Li0-1In2CuSe4  mp-1078168_Li  mp-1078168   mp-1079491\n",
       "2         Li2-4CoNi3O8   mp-757871_Li  mp-1178027    mp-867640\n",
       "3     Li0-4Fe3Cu(PO4)4   mp-775191_Li   mp-775191   mp-1177485\n",
       "4          Li0-1FeCuS2   mp-753211_Li   mp-753211    mp-755288\n",
       "...                ...            ...         ...          ...\n",
       "2435       Li0-1NiP2O7    mp-26785_Li    mp-26786     mp-26785\n",
       "2436    Li0-3Ni3(PO4)4   mp-504236_Li  mp-1101533    mp-504236\n",
       "2437       Li1-2NiP2O7   mp-758298_Li   mp-766087    mp-758298\n",
       "2438     Li0-2Ni(PO3)4    mp-26195_Li   mp-504269     mp-26195\n",
       "2439       Li0-1NiP2O7    mp-32363_Li    mp-32363    mp-705331\n",
       "\n",
       "[2440 rows x 4 columns]"
      ]
     },
     "execution_count": 25,
     "metadata": {},
     "output_type": "execute_result"
    }
   ],
   "source": [
    "battery_data = pd.DataFrame()\n",
    "battery_data['battery_formula'] = formula_battery\n",
    "battery_data['battery_id'] = id_battery\n",
    "battery_data['charge_id'] = id_charge\n",
    "battery_data['discharge_id'] = id_discharge\n",
    "battery_data"
   ]
  },
  {
   "cell_type": "code",
   "execution_count": 27,
   "id": "5d5cd795-32a3-40ee-8c25-9b6176974d22",
   "metadata": {},
   "outputs": [
    {
     "name": "stdout",
     "output_type": "stream",
     "text": [
      "<class 'pandas.core.frame.DataFrame'>\n",
      "RangeIndex: 2440 entries, 0 to 2439\n",
      "Data columns (total 4 columns):\n",
      " #   Column           Non-Null Count  Dtype \n",
      "---  ------           --------------  ----- \n",
      " 0   battery_formula  2440 non-null   object\n",
      " 1   battery_id       2440 non-null   object\n",
      " 2   charge_id        2440 non-null   object\n",
      " 3   discharge_id     2440 non-null   object\n",
      "dtypes: object(4)\n",
      "memory usage: 76.4+ KB\n"
     ]
    }
   ],
   "source": [
    "battery_data.info()"
   ]
  },
  {
   "cell_type": "code",
   "execution_count": null,
   "id": "20be99ad-d295-4bc7-bae5-a8b6523a0d0f",
   "metadata": {},
   "outputs": [],
   "source": []
  },
  {
   "cell_type": "code",
   "execution_count": 26,
   "id": "90b04219-c5ce-4e68-9870-90fa270fd366",
   "metadata": {},
   "outputs": [],
   "source": [
    "df = pd.DataFrame(columns=['material_id', 'formula_pretty', 'nsites', 'crystal_system', 'formation_energy_per_atom', 'is_stable'])\n",
    "for i in docs:\n",
    "    data=[i.material_id, i.formula_pretty, i.nsites, i.symmetry.symbol, i.formation_energy_per_atom, i.is_stable]\n",
    "    df.loc[len(df)]=data"
   ]
  },
  {
   "cell_type": "code",
   "execution_count": 27,
   "id": "94c94898-9909-4ee7-a2e6-7592729cc136",
   "metadata": {},
   "outputs": [
    {
     "data": {
      "text/html": [
       "<div>\n",
       "<style scoped>\n",
       "    .dataframe tbody tr th:only-of-type {\n",
       "        vertical-align: middle;\n",
       "    }\n",
       "\n",
       "    .dataframe tbody tr th {\n",
       "        vertical-align: top;\n",
       "    }\n",
       "\n",
       "    .dataframe thead th {\n",
       "        text-align: right;\n",
       "    }\n",
       "</style>\n",
       "<table border=\"1\" class=\"dataframe\">\n",
       "  <thead>\n",
       "    <tr style=\"text-align: right;\">\n",
       "      <th></th>\n",
       "      <th>material_id</th>\n",
       "      <th>formula_pretty</th>\n",
       "      <th>nsites</th>\n",
       "      <th>crystal_system</th>\n",
       "      <th>formation_energy_per_atom</th>\n",
       "      <th>is_stable</th>\n",
       "    </tr>\n",
       "  </thead>\n",
       "  <tbody>\n",
       "    <tr>\n",
       "      <th>0</th>\n",
       "      <td>mp-1178332</td>\n",
       "      <td>Li(CoO2)2</td>\n",
       "      <td>56</td>\n",
       "      <td>P1</td>\n",
       "      <td>-1.457210</td>\n",
       "      <td>False</td>\n",
       "    </tr>\n",
       "    <tr>\n",
       "      <th>1</th>\n",
       "      <td>mp-1377260</td>\n",
       "      <td>Li(CoO2)2</td>\n",
       "      <td>56</td>\n",
       "      <td>P4_322</td>\n",
       "      <td>-1.457917</td>\n",
       "      <td>False</td>\n",
       "    </tr>\n",
       "    <tr>\n",
       "      <th>2</th>\n",
       "      <td>mp-25383</td>\n",
       "      <td>Li(CoO2)2</td>\n",
       "      <td>56</td>\n",
       "      <td>Fd-3m</td>\n",
       "      <td>-1.451605</td>\n",
       "      <td>False</td>\n",
       "    </tr>\n",
       "    <tr>\n",
       "      <th>3</th>\n",
       "      <td>mp-773076</td>\n",
       "      <td>Li(CoO2)2</td>\n",
       "      <td>56</td>\n",
       "      <td>P4_332</td>\n",
       "      <td>-1.486767</td>\n",
       "      <td>False</td>\n",
       "    </tr>\n",
       "    <tr>\n",
       "      <th>4</th>\n",
       "      <td>mp-774082</td>\n",
       "      <td>Li(CoO2)2</td>\n",
       "      <td>56</td>\n",
       "      <td>P2_1</td>\n",
       "      <td>-1.504020</td>\n",
       "      <td>True</td>\n",
       "    </tr>\n",
       "    <tr>\n",
       "      <th>5</th>\n",
       "      <td>mp-530277</td>\n",
       "      <td>Li10Co11O21</td>\n",
       "      <td>84</td>\n",
       "      <td>P-1</td>\n",
       "      <td>-1.694866</td>\n",
       "      <td>False</td>\n",
       "    </tr>\n",
       "    <tr>\n",
       "      <th>6</th>\n",
       "      <td>mp-1185179</td>\n",
       "      <td>Li10Co4O9</td>\n",
       "      <td>46</td>\n",
       "      <td>P4_2/nmc</td>\n",
       "      <td>-1.773020</td>\n",
       "      <td>False</td>\n",
       "    </tr>\n",
       "    <tr>\n",
       "      <th>7</th>\n",
       "      <td>mp-773128</td>\n",
       "      <td>Li10Co4O9</td>\n",
       "      <td>46</td>\n",
       "      <td>P-1</td>\n",
       "      <td>-1.747897</td>\n",
       "      <td>False</td>\n",
       "    </tr>\n",
       "    <tr>\n",
       "      <th>8</th>\n",
       "      <td>mp-769567</td>\n",
       "      <td>Li10Ti11Cr9O40</td>\n",
       "      <td>70</td>\n",
       "      <td>P-1</td>\n",
       "      <td>-2.921830</td>\n",
       "      <td>False</td>\n",
       "    </tr>\n",
       "    <tr>\n",
       "      <th>9</th>\n",
       "      <td>mp-769483</td>\n",
       "      <td>Li11(CoO4)2</td>\n",
       "      <td>42</td>\n",
       "      <td>C222_1</td>\n",
       "      <td>-1.911476</td>\n",
       "      <td>False</td>\n",
       "    </tr>\n",
       "  </tbody>\n",
       "</table>\n",
       "</div>"
      ],
      "text/plain": [
       "  material_id  formula_pretty  nsites crystal_system  \\\n",
       "0  mp-1178332       Li(CoO2)2      56             P1   \n",
       "1  mp-1377260       Li(CoO2)2      56         P4_322   \n",
       "2    mp-25383       Li(CoO2)2      56          Fd-3m   \n",
       "3   mp-773076       Li(CoO2)2      56         P4_332   \n",
       "4   mp-774082       Li(CoO2)2      56           P2_1   \n",
       "5   mp-530277     Li10Co11O21      84            P-1   \n",
       "6  mp-1185179       Li10Co4O9      46       P4_2/nmc   \n",
       "7   mp-773128       Li10Co4O9      46            P-1   \n",
       "8   mp-769567  Li10Ti11Cr9O40      70            P-1   \n",
       "9   mp-769483     Li11(CoO4)2      42         C222_1   \n",
       "\n",
       "   formation_energy_per_atom  is_stable  \n",
       "0                  -1.457210      False  \n",
       "1                  -1.457917      False  \n",
       "2                  -1.451605      False  \n",
       "3                  -1.486767      False  \n",
       "4                  -1.504020       True  \n",
       "5                  -1.694866      False  \n",
       "6                  -1.773020      False  \n",
       "7                  -1.747897      False  \n",
       "8                  -2.921830      False  \n",
       "9                  -1.911476      False  "
      ]
     },
     "execution_count": 27,
     "metadata": {},
     "output_type": "execute_result"
    }
   ],
   "source": [
    "df[:10]"
   ]
  },
  {
   "cell_type": "code",
   "execution_count": 28,
   "id": "e067c260-2553-4bab-a543-968ff717bc38",
   "metadata": {},
   "outputs": [],
   "source": [
    "df.to_csv('./materials.csv')"
   ]
  },
  {
   "cell_type": "code",
   "execution_count": 20,
   "id": "3bf0d4b5-b8f6-4d0c-bfc8-828746e2c146",
   "metadata": {},
   "outputs": [
    {
     "name": "stdout",
     "output_type": "stream",
     "text": [
      "\u001b[1;31m---------------------------------------------------------------------------\u001b[0m\n",
      "\u001b[1;31mKeyboardInterrupt\u001b[0m                         Traceback (most recent call last)\n",
      "\u001b[1;32m<ipython-input-20-673dc008488a>\u001b[0m in \u001b[0;36m<module>\u001b[1;34m\u001b[0m\n",
      "\u001b[0;32m      5\u001b[0m     \u001b[0mn\u001b[0m \u001b[1;33m=\u001b[0m \u001b[1;36m0\u001b[0m\u001b[1;33m\u001b[0m\u001b[1;33m\u001b[0m\u001b[0m\n",
      "\u001b[0;32m      6\u001b[0m     \u001b[1;32mwhile\u001b[0m \u001b[0mdf\u001b[0m\u001b[1;33m.\u001b[0m\u001b[0miloc\u001b[0m\u001b[1;33m[\u001b[0m\u001b[0mm\u001b[0m\u001b[1;33m]\u001b[0m\u001b[1;33m.\u001b[0m\u001b[0mformula_pretty\u001b[0m \u001b[1;33m==\u001b[0m \u001b[0mdf\u001b[0m\u001b[1;33m.\u001b[0m\u001b[0miloc\u001b[0m\u001b[1;33m[\u001b[0m\u001b[0mm\u001b[0m\u001b[1;33m+\u001b[0m\u001b[1;36m1\u001b[0m\u001b[1;33m]\u001b[0m\u001b[1;33m.\u001b[0m\u001b[0mformula_pretty\u001b[0m\u001b[1;33m:\u001b[0m\u001b[1;33m\u001b[0m\u001b[1;33m\u001b[0m\u001b[0m\n",
      "\u001b[1;32m----> 7\u001b[1;33m         \u001b[1;32mif\u001b[0m \u001b[0mdf\u001b[0m\u001b[1;33m.\u001b[0m\u001b[0miloc\u001b[0m\u001b[1;33m[\u001b[0m\u001b[0mm\u001b[0m\u001b[1;33m]\u001b[0m\u001b[1;33m.\u001b[0m\u001b[0mcrystal_system\u001b[0m \u001b[1;33m==\u001b[0m \u001b[0mdf\u001b[0m\u001b[1;33m.\u001b[0m\u001b[0miloc\u001b[0m\u001b[1;33m[\u001b[0m\u001b[0mm\u001b[0m\u001b[1;33m+\u001b[0m\u001b[1;36m1\u001b[0m\u001b[1;33m]\u001b[0m\u001b[1;33m.\u001b[0m\u001b[0mcrystal_system\u001b[0m\u001b[1;33m:\u001b[0m\u001b[1;33m\u001b[0m\u001b[1;33m\u001b[0m\u001b[0m\n",
      "\u001b[0m\u001b[0;32m      8\u001b[0m             \u001b[1;32mif\u001b[0m \u001b[0mdf\u001b[0m\u001b[1;33m.\u001b[0m\u001b[0miloc\u001b[0m\u001b[1;33m[\u001b[0m\u001b[0mm\u001b[0m\u001b[1;33m]\u001b[0m\u001b[1;33m.\u001b[0m\u001b[0mformation_energy_per_atom\u001b[0m \u001b[1;33m>\u001b[0m \u001b[0mdf\u001b[0m\u001b[1;33m.\u001b[0m\u001b[0miloc\u001b[0m\u001b[1;33m[\u001b[0m\u001b[0mm\u001b[0m\u001b[1;33m+\u001b[0m\u001b[1;36m1\u001b[0m\u001b[1;33m]\u001b[0m\u001b[1;33m.\u001b[0m\u001b[0mformation_energy_per_atom\u001b[0m\u001b[1;33m:\u001b[0m\u001b[1;33m\u001b[0m\u001b[1;33m\u001b[0m\u001b[0m\n",
      "\u001b[0;32m      9\u001b[0m                 \u001b[0mdf\u001b[0m\u001b[1;33m.\u001b[0m\u001b[0mdrop\u001b[0m\u001b[1;33m(\u001b[0m\u001b[0mm\u001b[0m\u001b[1;33m+\u001b[0m\u001b[1;36m1\u001b[0m\u001b[1;33m)\u001b[0m\u001b[1;33m\u001b[0m\u001b[1;33m\u001b[0m\u001b[0m\n",
      "\n",
      "\u001b[1;32mD:\\python\\conda\\lib\\site-packages\\pandas\\core\\indexing.py\u001b[0m in \u001b[0;36m__getitem__\u001b[1;34m(self, key)\u001b[0m\n",
      "\u001b[0;32m   1101\u001b[0m \u001b[1;33m\u001b[0m\u001b[0m\n",
      "\u001b[0;32m   1102\u001b[0m             \u001b[0mmaybe_callable\u001b[0m \u001b[1;33m=\u001b[0m \u001b[0mcom\u001b[0m\u001b[1;33m.\u001b[0m\u001b[0mapply_if_callable\u001b[0m\u001b[1;33m(\u001b[0m\u001b[0mkey\u001b[0m\u001b[1;33m,\u001b[0m \u001b[0mself\u001b[0m\u001b[1;33m.\u001b[0m\u001b[0mobj\u001b[0m\u001b[1;33m)\u001b[0m\u001b[1;33m\u001b[0m\u001b[1;33m\u001b[0m\u001b[0m\n",
      "\u001b[1;32m-> 1103\u001b[1;33m             \u001b[1;32mreturn\u001b[0m \u001b[0mself\u001b[0m\u001b[1;33m.\u001b[0m\u001b[0m_getitem_axis\u001b[0m\u001b[1;33m(\u001b[0m\u001b[0mmaybe_callable\u001b[0m\u001b[1;33m,\u001b[0m \u001b[0maxis\u001b[0m\u001b[1;33m=\u001b[0m\u001b[0maxis\u001b[0m\u001b[1;33m)\u001b[0m\u001b[1;33m\u001b[0m\u001b[1;33m\u001b[0m\u001b[0m\n",
      "\u001b[0m\u001b[0;32m   1104\u001b[0m \u001b[1;33m\u001b[0m\u001b[0m\n",
      "\u001b[0;32m   1105\u001b[0m     \u001b[1;32mdef\u001b[0m \u001b[0m_is_scalar_access\u001b[0m\u001b[1;33m(\u001b[0m\u001b[0mself\u001b[0m\u001b[1;33m,\u001b[0m \u001b[0mkey\u001b[0m\u001b[1;33m:\u001b[0m \u001b[0mtuple\u001b[0m\u001b[1;33m)\u001b[0m\u001b[1;33m:\u001b[0m\u001b[1;33m\u001b[0m\u001b[1;33m\u001b[0m\u001b[0m\n",
      "\n",
      "\u001b[1;32mD:\\python\\conda\\lib\\site-packages\\pandas\\core\\indexing.py\u001b[0m in \u001b[0;36m_getitem_axis\u001b[1;34m(self, key, axis)\u001b[0m\n",
      "\u001b[0;32m   1656\u001b[0m             \u001b[0mself\u001b[0m\u001b[1;33m.\u001b[0m\u001b[0m_validate_integer\u001b[0m\u001b[1;33m(\u001b[0m\u001b[0mkey\u001b[0m\u001b[1;33m,\u001b[0m \u001b[0maxis\u001b[0m\u001b[1;33m)\u001b[0m\u001b[1;33m\u001b[0m\u001b[1;33m\u001b[0m\u001b[0m\n",
      "\u001b[0;32m   1657\u001b[0m \u001b[1;33m\u001b[0m\u001b[0m\n",
      "\u001b[1;32m-> 1658\u001b[1;33m             \u001b[1;32mreturn\u001b[0m \u001b[0mself\u001b[0m\u001b[1;33m.\u001b[0m\u001b[0mobj\u001b[0m\u001b[1;33m.\u001b[0m\u001b[0m_ixs\u001b[0m\u001b[1;33m(\u001b[0m\u001b[0mkey\u001b[0m\u001b[1;33m,\u001b[0m \u001b[0maxis\u001b[0m\u001b[1;33m=\u001b[0m\u001b[0maxis\u001b[0m\u001b[1;33m)\u001b[0m\u001b[1;33m\u001b[0m\u001b[1;33m\u001b[0m\u001b[0m\n",
      "\u001b[0m\u001b[0;32m   1659\u001b[0m \u001b[1;33m\u001b[0m\u001b[0m\n",
      "\u001b[0;32m   1660\u001b[0m     \u001b[1;32mdef\u001b[0m \u001b[0m_get_slice_axis\u001b[0m\u001b[1;33m(\u001b[0m\u001b[0mself\u001b[0m\u001b[1;33m,\u001b[0m \u001b[0mslice_obj\u001b[0m\u001b[1;33m:\u001b[0m \u001b[0mslice\u001b[0m\u001b[1;33m,\u001b[0m \u001b[0maxis\u001b[0m\u001b[1;33m:\u001b[0m \u001b[0mAxisInt\u001b[0m\u001b[1;33m)\u001b[0m\u001b[1;33m:\u001b[0m\u001b[1;33m\u001b[0m\u001b[1;33m\u001b[0m\u001b[0m\n",
      "\n",
      "\u001b[1;32mD:\\python\\conda\\lib\\site-packages\\pandas\\core\\frame.py\u001b[0m in \u001b[0;36m_ixs\u001b[1;34m(self, i, axis)\u001b[0m\n",
      "\u001b[0;32m   3650\u001b[0m         \u001b[1;31m# irow\u001b[0m\u001b[1;33m\u001b[0m\u001b[1;33m\u001b[0m\u001b[1;33m\u001b[0m\u001b[0m\n",
      "\u001b[0;32m   3651\u001b[0m         \u001b[1;32mif\u001b[0m \u001b[0maxis\u001b[0m \u001b[1;33m==\u001b[0m \u001b[1;36m0\u001b[0m\u001b[1;33m:\u001b[0m\u001b[1;33m\u001b[0m\u001b[1;33m\u001b[0m\u001b[0m\n",
      "\u001b[1;32m-> 3652\u001b[1;33m             \u001b[0mnew_mgr\u001b[0m \u001b[1;33m=\u001b[0m \u001b[0mself\u001b[0m\u001b[1;33m.\u001b[0m\u001b[0m_mgr\u001b[0m\u001b[1;33m.\u001b[0m\u001b[0mfast_xs\u001b[0m\u001b[1;33m(\u001b[0m\u001b[0mi\u001b[0m\u001b[1;33m)\u001b[0m\u001b[1;33m\u001b[0m\u001b[1;33m\u001b[0m\u001b[0m\n",
      "\u001b[0m\u001b[0;32m   3653\u001b[0m \u001b[1;33m\u001b[0m\u001b[0m\n",
      "\u001b[0;32m   3654\u001b[0m             \u001b[1;31m# if we are a copy, mark as such\u001b[0m\u001b[1;33m\u001b[0m\u001b[1;33m\u001b[0m\u001b[1;33m\u001b[0m\u001b[0m\n",
      "\n",
      "\u001b[1;32mD:\\python\\conda\\lib\\site-packages\\pandas\\core\\internals\\managers.py\u001b[0m in \u001b[0;36mfast_xs\u001b[1;34m(self, loc)\u001b[0m\n",
      "\u001b[0;32m   1050\u001b[0m             \u001b[1;32mreturn\u001b[0m \u001b[0mSingleBlockManager\u001b[0m\u001b[1;33m(\u001b[0m\u001b[0mblock\u001b[0m\u001b[1;33m,\u001b[0m \u001b[0mself\u001b[0m\u001b[1;33m.\u001b[0m\u001b[0maxes\u001b[0m\u001b[1;33m[\u001b[0m\u001b[1;36m0\u001b[0m\u001b[1;33m]\u001b[0m\u001b[1;33m)\u001b[0m\u001b[1;33m\u001b[0m\u001b[1;33m\u001b[0m\u001b[0m\n",
      "\u001b[0;32m   1051\u001b[0m \u001b[1;33m\u001b[0m\u001b[0m\n",
      "\u001b[1;32m-> 1052\u001b[1;33m         \u001b[0mdtype\u001b[0m \u001b[1;33m=\u001b[0m \u001b[0minterleaved_dtype\u001b[0m\u001b[1;33m(\u001b[0m\u001b[1;33m[\u001b[0m\u001b[0mblk\u001b[0m\u001b[1;33m.\u001b[0m\u001b[0mdtype\u001b[0m \u001b[1;32mfor\u001b[0m \u001b[0mblk\u001b[0m \u001b[1;32min\u001b[0m \u001b[0mself\u001b[0m\u001b[1;33m.\u001b[0m\u001b[0mblocks\u001b[0m\u001b[1;33m]\u001b[0m\u001b[1;33m)\u001b[0m\u001b[1;33m\u001b[0m\u001b[1;33m\u001b[0m\u001b[0m\n",
      "\u001b[0m\u001b[0;32m   1053\u001b[0m \u001b[1;33m\u001b[0m\u001b[0m\n",
      "\u001b[0;32m   1054\u001b[0m         \u001b[0mn\u001b[0m \u001b[1;33m=\u001b[0m \u001b[0mlen\u001b[0m\u001b[1;33m(\u001b[0m\u001b[0mself\u001b[0m\u001b[1;33m)\u001b[0m\u001b[1;33m\u001b[0m\u001b[1;33m\u001b[0m\u001b[0m\n",
      "\n",
      "\u001b[1;32mD:\\python\\conda\\lib\\site-packages\\pandas\\core\\internals\\base.py\u001b[0m in \u001b[0;36minterleaved_dtype\u001b[1;34m(dtypes)\u001b[0m\n",
      "\u001b[0;32m    222\u001b[0m         \u001b[1;32mreturn\u001b[0m \u001b[1;32mNone\u001b[0m\u001b[1;33m\u001b[0m\u001b[1;33m\u001b[0m\u001b[0m\n",
      "\u001b[0;32m    223\u001b[0m \u001b[1;33m\u001b[0m\u001b[0m\n",
      "\u001b[1;32m--> 224\u001b[1;33m     \u001b[1;32mreturn\u001b[0m \u001b[0mfind_common_type\u001b[0m\u001b[1;33m(\u001b[0m\u001b[0mdtypes\u001b[0m\u001b[1;33m)\u001b[0m\u001b[1;33m\u001b[0m\u001b[1;33m\u001b[0m\u001b[0m\n",
      "\u001b[0m\n",
      "\u001b[1;32mD:\\python\\conda\\lib\\site-packages\\pandas\\core\\dtypes\\cast.py\u001b[0m in \u001b[0;36mfind_common_type\u001b[1;34m(types)\u001b[0m\n",
      "\u001b[0;32m   1458\u001b[0m     \u001b[1;31m# don't mix bool / int or float or complex\u001b[0m\u001b[1;33m\u001b[0m\u001b[1;33m\u001b[0m\u001b[1;33m\u001b[0m\u001b[0m\n",
      "\u001b[0;32m   1459\u001b[0m     \u001b[1;31m# this is different from numpy, which casts bool with float/int as int\u001b[0m\u001b[1;33m\u001b[0m\u001b[1;33m\u001b[0m\u001b[1;33m\u001b[0m\u001b[0m\n",
      "\u001b[1;32m-> 1460\u001b[1;33m     \u001b[0mhas_bools\u001b[0m \u001b[1;33m=\u001b[0m \u001b[0many\u001b[0m\u001b[1;33m(\u001b[0m\u001b[0mis_bool_dtype\u001b[0m\u001b[1;33m(\u001b[0m\u001b[0mt\u001b[0m\u001b[1;33m)\u001b[0m \u001b[1;32mfor\u001b[0m \u001b[0mt\u001b[0m \u001b[1;32min\u001b[0m \u001b[0mtypes\u001b[0m\u001b[1;33m)\u001b[0m\u001b[1;33m\u001b[0m\u001b[1;33m\u001b[0m\u001b[0m\n",
      "\u001b[0m\u001b[0;32m   1461\u001b[0m     \u001b[1;32mif\u001b[0m \u001b[0mhas_bools\u001b[0m\u001b[1;33m:\u001b[0m\u001b[1;33m\u001b[0m\u001b[1;33m\u001b[0m\u001b[0m\n",
      "\u001b[0;32m   1462\u001b[0m         \u001b[1;32mfor\u001b[0m \u001b[0mt\u001b[0m \u001b[1;32min\u001b[0m \u001b[0mtypes\u001b[0m\u001b[1;33m:\u001b[0m\u001b[1;33m\u001b[0m\u001b[1;33m\u001b[0m\u001b[0m\n",
      "\n",
      "\u001b[1;32mD:\\python\\conda\\lib\\site-packages\\pandas\\core\\dtypes\\cast.py\u001b[0m in \u001b[0;36m<genexpr>\u001b[1;34m(.0)\u001b[0m\n",
      "\u001b[0;32m   1458\u001b[0m     \u001b[1;31m# don't mix bool / int or float or complex\u001b[0m\u001b[1;33m\u001b[0m\u001b[1;33m\u001b[0m\u001b[1;33m\u001b[0m\u001b[0m\n",
      "\u001b[0;32m   1459\u001b[0m     \u001b[1;31m# this is different from numpy, which casts bool with float/int as int\u001b[0m\u001b[1;33m\u001b[0m\u001b[1;33m\u001b[0m\u001b[1;33m\u001b[0m\u001b[0m\n",
      "\u001b[1;32m-> 1460\u001b[1;33m     \u001b[0mhas_bools\u001b[0m \u001b[1;33m=\u001b[0m \u001b[0many\u001b[0m\u001b[1;33m(\u001b[0m\u001b[0mis_bool_dtype\u001b[0m\u001b[1;33m(\u001b[0m\u001b[0mt\u001b[0m\u001b[1;33m)\u001b[0m \u001b[1;32mfor\u001b[0m \u001b[0mt\u001b[0m \u001b[1;32min\u001b[0m \u001b[0mtypes\u001b[0m\u001b[1;33m)\u001b[0m\u001b[1;33m\u001b[0m\u001b[1;33m\u001b[0m\u001b[0m\n",
      "\u001b[0m\u001b[0;32m   1461\u001b[0m     \u001b[1;32mif\u001b[0m \u001b[0mhas_bools\u001b[0m\u001b[1;33m:\u001b[0m\u001b[1;33m\u001b[0m\u001b[1;33m\u001b[0m\u001b[0m\n",
      "\u001b[0;32m   1462\u001b[0m         \u001b[1;32mfor\u001b[0m \u001b[0mt\u001b[0m \u001b[1;32min\u001b[0m \u001b[0mtypes\u001b[0m\u001b[1;33m:\u001b[0m\u001b[1;33m\u001b[0m\u001b[1;33m\u001b[0m\u001b[0m\n",
      "\n",
      "\u001b[1;32mD:\\python\\conda\\lib\\site-packages\\pandas\\core\\dtypes\\common.py\u001b[0m in \u001b[0;36mis_bool_dtype\u001b[1;34m(arr_or_dtype)\u001b[0m\n",
      "\u001b[0;32m   1286\u001b[0m         \u001b[1;32mreturn\u001b[0m \u001b[1;32mFalse\u001b[0m\u001b[1;33m\u001b[0m\u001b[1;33m\u001b[0m\u001b[0m\n",
      "\u001b[0;32m   1287\u001b[0m     \u001b[1;32mtry\u001b[0m\u001b[1;33m:\u001b[0m\u001b[1;33m\u001b[0m\u001b[1;33m\u001b[0m\u001b[0m\n",
      "\u001b[1;32m-> 1288\u001b[1;33m         \u001b[0mdtype\u001b[0m \u001b[1;33m=\u001b[0m \u001b[0mget_dtype\u001b[0m\u001b[1;33m(\u001b[0m\u001b[0marr_or_dtype\u001b[0m\u001b[1;33m)\u001b[0m\u001b[1;33m\u001b[0m\u001b[1;33m\u001b[0m\u001b[0m\n",
      "\u001b[0m\u001b[0;32m   1289\u001b[0m     \u001b[1;32mexcept\u001b[0m \u001b[1;33m(\u001b[0m\u001b[0mTypeError\u001b[0m\u001b[1;33m,\u001b[0m \u001b[0mValueError\u001b[0m\u001b[1;33m)\u001b[0m\u001b[1;33m:\u001b[0m\u001b[1;33m\u001b[0m\u001b[1;33m\u001b[0m\u001b[0m\n",
      "\u001b[0;32m   1290\u001b[0m         \u001b[1;32mreturn\u001b[0m \u001b[1;32mFalse\u001b[0m\u001b[1;33m\u001b[0m\u001b[1;33m\u001b[0m\u001b[0m\n",
      "\n",
      "\u001b[1;32mD:\\python\\conda\\lib\\site-packages\\pandas\\core\\dtypes\\common.py\u001b[0m in \u001b[0;36mget_dtype\u001b[1;34m(arr_or_dtype)\u001b[0m\n",
      "\u001b[0;32m   1480\u001b[0m \u001b[1;33m\u001b[0m\u001b[0m\n",
      "\u001b[0;32m   1481\u001b[0m     \u001b[1;31m# fastpath\u001b[0m\u001b[1;33m\u001b[0m\u001b[1;33m\u001b[0m\u001b[1;33m\u001b[0m\u001b[0m\n",
      "\u001b[1;32m-> 1482\u001b[1;33m     \u001b[1;32mif\u001b[0m \u001b[0misinstance\u001b[0m\u001b[1;33m(\u001b[0m\u001b[0marr_or_dtype\u001b[0m\u001b[1;33m,\u001b[0m \u001b[0mnp\u001b[0m\u001b[1;33m.\u001b[0m\u001b[0mdtype\u001b[0m\u001b[1;33m)\u001b[0m\u001b[1;33m:\u001b[0m\u001b[1;33m\u001b[0m\u001b[1;33m\u001b[0m\u001b[0m\n",
      "\u001b[0m\u001b[0;32m   1483\u001b[0m         \u001b[1;32mreturn\u001b[0m \u001b[0marr_or_dtype\u001b[0m\u001b[1;33m\u001b[0m\u001b[1;33m\u001b[0m\u001b[0m\n",
      "\u001b[0;32m   1484\u001b[0m     \u001b[1;32melif\u001b[0m \u001b[0misinstance\u001b[0m\u001b[1;33m(\u001b[0m\u001b[0marr_or_dtype\u001b[0m\u001b[1;33m,\u001b[0m \u001b[0mtype\u001b[0m\u001b[1;33m)\u001b[0m\u001b[1;33m:\u001b[0m\u001b[1;33m\u001b[0m\u001b[1;33m\u001b[0m\u001b[0m\n",
      "\n",
      "\u001b[1;31mKeyboardInterrupt\u001b[0m: \n"
     ]
    }
   ],
   "source": [
    "# 去掉重复值\n",
    "# i = 0 # 全索引\n",
    "# m = 0 # 组索引\n",
    "# while i < 852:\n",
    "#     n = 0\n",
    "#     while df.iloc[m].formula_pretty == df.iloc[m+1].formula_pretty:\n",
    "#         if df.iloc[m].crystal_system == df.iloc[m+1].crystal_system:\n",
    "#             if df.iloc[m].formation_energy_per_atom > df.iloc[m+1].formation_energy_per_atom:\n",
    "#                 df.drop(m+1)\n",
    "#                 n += 1\n",
    "#             elif df.iloc[m].formation_energy_per_atom < df.iloc[m+1].formation_energy_per_atom:\n",
    "#                 df.drop(m)\n",
    "#                 n += 1\n",
    "#     print(i, n, m)\n",
    "#     i += n\n",
    "#     m += 1 \n",
    "a = "
   ]
  },
  {
   "cell_type": "code",
   "execution_count": null,
   "id": "de21bd6f-1e0d-4544-bf22-fe61769a3863",
   "metadata": {},
   "outputs": [],
   "source": []
  }
 ],
 "metadata": {
  "kernelspec": {
   "display_name": "Python 3",
   "language": "python",
   "name": "python3"
  },
  "language_info": {
   "codemirror_mode": {
    "name": "ipython",
    "version": 3
   },
   "file_extension": ".py",
   "mimetype": "text/x-python",
   "name": "python",
   "nbconvert_exporter": "python",
   "pygments_lexer": "ipython3",
   "version": "3.8.8"
  }
 },
 "nbformat": 4,
 "nbformat_minor": 5
}
