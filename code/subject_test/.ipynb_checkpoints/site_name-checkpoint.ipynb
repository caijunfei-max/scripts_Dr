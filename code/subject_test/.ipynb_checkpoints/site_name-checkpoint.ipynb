{
 "cells": [
  {
   "cell_type": "markdown",
   "id": "b2c1e7e7-c635-4ccd-992e-086b4ff353f4",
   "metadata": {},
   "source": [
    "根据国际晶体学表格填写的位点名称"
   ]
  },
  {
   "cell_type": "code",
   "execution_count": 44,
   "id": "c21f2c3a-ff05-4da1-a8d5-90519bbc5ccf",
   "metadata": {},
   "outputs": [],
   "source": [
    "from pymatgen.core import Structure\n",
    "from pymatgen.symmetry.analyzer import SpacegroupAnalyzer\n",
    "import pandas as pd\n",
    "import numpy as np"
   ]
  },
  {
   "cell_type": "code",
   "execution_count": 41,
   "id": "ae40c54b-2e8f-4c31-a399-ad7183815109",
   "metadata": {},
   "outputs": [
    {
     "data": {
      "text/plain": [
       "array([[0.        , 0.33859101, 0.5       ],\n",
       "       [0.        , 0.66140902, 0.5       ],\n",
       "       [0.5       , 0.83859098, 0.5       ],\n",
       "       [0.5       , 0.16140899, 0.5       ],\n",
       "       [0.        , 0.        , 0.5       ],\n",
       "       [0.5       , 0.5       , 0.5       ],\n",
       "       [0.        , 0.5       , 0.        ],\n",
       "       [0.5       , 0.        , 0.        ],\n",
       "       [0.        , 0.1668825 , 0.        ],\n",
       "       [0.        , 0.83311749, 0.        ],\n",
       "       [0.5       , 0.66688251, 0.        ],\n",
       "       [0.5       , 0.33311748, 0.        ],\n",
       "       [0.246087  , 0.17859501, 0.77628303],\n",
       "       [0.75391299, 0.82140499, 0.22371697],\n",
       "       [0.75391299, 0.17859501, 0.22371697],\n",
       "       [0.246087  , 0.82140499, 0.77628303],\n",
       "       [0.74608701, 0.67859501, 0.77628303],\n",
       "       [0.25391298, 0.32140499, 0.22371697],\n",
       "       [0.25391298, 0.67859501, 0.22371697],\n",
       "       [0.74608701, 0.32140499, 0.77628303],\n",
       "       [0.21895026, 0.        , 0.227468  ],\n",
       "       [0.78104973, 0.        , 0.77253199],\n",
       "       [0.71895027, 0.5       , 0.227468  ],\n",
       "       [0.28104973, 0.5       , 0.77253199]])"
      ]
     },
     "execution_count": 41,
     "metadata": {},
     "output_type": "execute_result"
    }
   ],
   "source": [
    "structure_li2mno3 = Structure.from_file(\"data/Li2MnO3.vasp\")\n",
    "site_list=[]\n",
    "coords_list=[]\n",
    "for i in range(structure_li2mno3.num_sites):\n",
    "    # print(structure_li2mno3[i].species)\n",
    "    site_list.append(structure_li2mno3[i].species)\n",
    "    coords_list.append(structure_li2mno3[i].frac_coords)\n",
    "\n",
    "site_array = np.array(site_list)\n",
    "coords_array = np.array(coords_list)\n"
   ]
  },
  {
   "cell_type": "code",
   "execution_count": 37,
   "id": "8a42bddc-c7e0-47e3-bc8e-cdaa59eee26a",
   "metadata": {},
   "outputs": [
    {
     "ename": "SyntaxError",
     "evalue": "invalid syntax (<ipython-input-37-cbba0ca498f4>, line 2)",
     "output_type": "error",
     "traceback": [
      "\u001b[1;36m  Cell \u001b[1;32mIn[37], line 2\u001b[1;36m\u001b[0m\n\u001b[1;33m    site_index_array=np.array([species for element in ])\u001b[0m\n\u001b[1;37m                                                      ^\u001b[0m\n\u001b[1;31mSyntaxError\u001b[0m\u001b[1;31m:\u001b[0m invalid syntax\n"
     ]
    }
   ],
   "source": [
    "site_wyckoff_array=np.array(\"4h\", \"4h\", \"4h\", \"4h\", \"2c\", \"2c\", \"2b\", \"2b\", \"4g\", \"4g\", \"4g\", \"4g\", \"8j\", \"8j\", \"8j\", \"8j\", \"8j\", \"8j\", \"8j\", \"8j\", \"4i\", \"4i\", \"4i\", \"4i\")"
   ]
  },
  {
   "cell_type": "code",
   "execution_count": 57,
   "id": "3a38951a-b2ae-4135-8103-c3b5a5c685d4",
   "metadata": {},
   "outputs": [
    {
     "data": {
      "text/plain": [
       "(array([ 0,  0,  0,  0,  4,  4,  6,  6,  8,  8,  8,  8, 12, 12, 12, 12, 12,\n",
       "        12, 12, 12, 20, 20, 20, 20], dtype=int32),\n",
       " ['h',\n",
       "  'h',\n",
       "  'h',\n",
       "  'h',\n",
       "  'c',\n",
       "  'c',\n",
       "  'b',\n",
       "  'b',\n",
       "  'g',\n",
       "  'g',\n",
       "  'g',\n",
       "  'g',\n",
       "  'j',\n",
       "  'j',\n",
       "  'j',\n",
       "  'j',\n",
       "  'j',\n",
       "  'j',\n",
       "  'j',\n",
       "  'j',\n",
       "  'i',\n",
       "  'i',\n",
       "  'i',\n",
       "  'i'])"
      ]
     },
     "execution_count": 57,
     "metadata": {},
     "output_type": "execute_result"
    }
   ],
   "source": [
    "symmetry_ana = SpacegroupAnalyzer(structure_li2mno3)\n",
    "wyckoff_letter=symmetry_ana.get_symmetry_dataset()[\"wyckoffs\"] # wyckoff符号可以从此获得\n",
    "multiplicity=symmetry_ana.get_symmetry_dataset()[\"equivalent_atoms\"] # 从这里获得相同位点的列表，可以写代码来获得多重性\n",
    "multiplicity, wyckoff_letter"
   ]
  }
 ],
 "metadata": {
  "kernelspec": {
   "display_name": "Python 3",
   "language": "python",
   "name": "python3"
  },
  "language_info": {
   "codemirror_mode": {
    "name": "ipython",
    "version": 3
   },
   "file_extension": ".py",
   "mimetype": "text/x-python",
   "name": "python",
   "nbconvert_exporter": "python",
   "pygments_lexer": "ipython3",
   "version": "3.10.9"
  }
 },
 "nbformat": 4,
 "nbformat_minor": 5
}
