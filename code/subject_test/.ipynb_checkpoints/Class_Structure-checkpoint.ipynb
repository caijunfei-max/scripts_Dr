{
 "cells": [
  {
   "cell_type": "code",
   "execution_count": 33,
   "id": "fc04336d-e21d-4412-90d8-b543900cec58",
   "metadata": {},
   "outputs": [],
   "source": [
    "from pymatgen.core import Structure\n",
    "import pandas"
   ]
  },
  {
   "cell_type": "markdown",
   "id": "d5132fae-8631-4a2c-ab99-ba8f9ee03ab0",
   "metadata": {},
   "source": [
    "关于structure类的的位点问题，直接索引就可以。和POSCAR里的位点差不多，自己找如果麻烦可以通过转化成dataframe来观察。Structure类是基于Istructure类的，继承了Istructure大部分必要的方法和属性，但是Structure可以修改，也就是可以进行掺杂，替换等操作。"
   ]
  },
  {
   "cell_type": "code",
   "execution_count": 3,
   "id": "75aed4f2-3a51-4de2-8ed0-d766616f35e4",
   "metadata": {},
   "outputs": [],
   "source": [
    "structure_init = Structure.from_file(\"data/li32mn16o48.vasp\") "
   ]
  },
  {
   "cell_type": "code",
   "execution_count": 23,
   "id": "cf1e155d-db75-47ee-b179-a75c866ad6f8",
   "metadata": {},
   "outputs": [],
   "source": [
    "all_neighbor = structure_init.get_all_neighbors(2.5)  # 获取所有原子周围的原子类型和数量\n",
    "all_neighbor_dist = structure_init.get_all_neighbors_py(r=3) #同样的，但是不可以指定原子\n"
   ]
  },
  {
   "cell_type": "code",
   "execution_count": 25,
   "id": "39b9ff90-77f8-4c97-a75c-26d3f54b1756",
   "metadata": {},
   "outputs": [],
   "source": [
    "structure_primitive = structure_init.get_primitive_structure()  # 从晶胞获取原胞"
   ]
  },
  {
   "cell_type": "code",
   "execution_count": 28,
   "id": "dc725533-0209-4e6e-ac31-8b2f7fdbfcbd",
   "metadata": {},
   "outputs": [
    {
     "data": {
      "text/plain": [
       "('C2/m', 12)"
      ]
     },
     "execution_count": 28,
     "metadata": {},
     "output_type": "execute_result"
    }
   ],
   "source": [
    "space_group = structure_init.get_space_group_info()\n",
    "space_group"
   ]
  },
  {
   "cell_type": "code",
   "execution_count": 31,
   "id": "2883446c-372d-4afe-aab6-c344680aed9a",
   "metadata": {},
   "outputs": [
    {
     "data": {
      "text/html": [
       "<div>\n",
       "<style scoped>\n",
       "    .dataframe tbody tr th:only-of-type {\n",
       "        vertical-align: middle;\n",
       "    }\n",
       "\n",
       "    .dataframe tbody tr th {\n",
       "        vertical-align: top;\n",
       "    }\n",
       "\n",
       "    .dataframe thead th {\n",
       "        text-align: right;\n",
       "    }\n",
       "</style>\n",
       "<table border=\"1\" class=\"dataframe\">\n",
       "  <thead>\n",
       "    <tr style=\"text-align: right;\">\n",
       "      <th></th>\n",
       "      <th>Species</th>\n",
       "      <th>a</th>\n",
       "      <th>b</th>\n",
       "      <th>c</th>\n",
       "      <th>x</th>\n",
       "      <th>y</th>\n",
       "      <th>z</th>\n",
       "    </tr>\n",
       "  </thead>\n",
       "  <tbody>\n",
       "    <tr>\n",
       "      <th>0</th>\n",
       "      <td>(O)</td>\n",
       "      <td>0.12304</td>\n",
       "      <td>0.08930</td>\n",
       "      <td>0.77628</td>\n",
       "      <td>-0.082917</td>\n",
       "      <td>1.546676</td>\n",
       "      <td>3.725483</td>\n",
       "    </tr>\n",
       "    <tr>\n",
       "      <th>1</th>\n",
       "      <td>(O)</td>\n",
       "      <td>0.37304</td>\n",
       "      <td>0.33930</td>\n",
       "      <td>0.77628</td>\n",
       "      <td>2.422208</td>\n",
       "      <td>5.876676</td>\n",
       "      <td>3.725483</td>\n",
       "    </tr>\n",
       "    <tr>\n",
       "      <th>2</th>\n",
       "      <td>(O)</td>\n",
       "      <td>0.37696</td>\n",
       "      <td>0.08930</td>\n",
       "      <td>0.22372</td>\n",
       "      <td>3.398110</td>\n",
       "      <td>1.546676</td>\n",
       "      <td>1.073666</td>\n",
       "    </tr>\n",
       "    <tr>\n",
       "      <th>3</th>\n",
       "      <td>(O)</td>\n",
       "      <td>0.12696</td>\n",
       "      <td>0.33930</td>\n",
       "      <td>0.22372</td>\n",
       "      <td>0.892984</td>\n",
       "      <td>5.876676</td>\n",
       "      <td>1.073666</td>\n",
       "    </tr>\n",
       "    <tr>\n",
       "      <th>4</th>\n",
       "      <td>(O)</td>\n",
       "      <td>0.37696</td>\n",
       "      <td>0.41070</td>\n",
       "      <td>0.22372</td>\n",
       "      <td>3.398110</td>\n",
       "      <td>7.113324</td>\n",
       "      <td>1.073666</td>\n",
       "    </tr>\n",
       "    <tr>\n",
       "      <th>...</th>\n",
       "      <td>...</td>\n",
       "      <td>...</td>\n",
       "      <td>...</td>\n",
       "      <td>...</td>\n",
       "      <td>...</td>\n",
       "      <td>...</td>\n",
       "      <td>...</td>\n",
       "    </tr>\n",
       "    <tr>\n",
       "      <th>91</th>\n",
       "      <td>(Mn)</td>\n",
       "      <td>0.25000</td>\n",
       "      <td>0.66656</td>\n",
       "      <td>0.00000</td>\n",
       "      <td>2.505125</td>\n",
       "      <td>11.544819</td>\n",
       "      <td>0.000000</td>\n",
       "    </tr>\n",
       "    <tr>\n",
       "      <th>92</th>\n",
       "      <td>(Mn)</td>\n",
       "      <td>0.50000</td>\n",
       "      <td>0.58344</td>\n",
       "      <td>0.00000</td>\n",
       "      <td>5.010250</td>\n",
       "      <td>10.105181</td>\n",
       "      <td>0.000000</td>\n",
       "    </tr>\n",
       "    <tr>\n",
       "      <th>93</th>\n",
       "      <td>(Mn)</td>\n",
       "      <td>0.75000</td>\n",
       "      <td>0.83344</td>\n",
       "      <td>0.00000</td>\n",
       "      <td>7.515375</td>\n",
       "      <td>14.435181</td>\n",
       "      <td>0.000000</td>\n",
       "    </tr>\n",
       "    <tr>\n",
       "      <th>94</th>\n",
       "      <td>(Mn)</td>\n",
       "      <td>0.50000</td>\n",
       "      <td>0.91656</td>\n",
       "      <td>0.00000</td>\n",
       "      <td>5.010250</td>\n",
       "      <td>15.874819</td>\n",
       "      <td>0.000000</td>\n",
       "    </tr>\n",
       "    <tr>\n",
       "      <th>95</th>\n",
       "      <td>(Mn)</td>\n",
       "      <td>0.75000</td>\n",
       "      <td>0.66656</td>\n",
       "      <td>0.00000</td>\n",
       "      <td>7.515375</td>\n",
       "      <td>11.544819</td>\n",
       "      <td>0.000000</td>\n",
       "    </tr>\n",
       "  </tbody>\n",
       "</table>\n",
       "<p>96 rows × 7 columns</p>\n",
       "</div>"
      ],
      "text/plain": [
       "   Species        a        b        c         x          y         z\n",
       "0      (O)  0.12304  0.08930  0.77628 -0.082917   1.546676  3.725483\n",
       "1      (O)  0.37304  0.33930  0.77628  2.422208   5.876676  3.725483\n",
       "2      (O)  0.37696  0.08930  0.22372  3.398110   1.546676  1.073666\n",
       "3      (O)  0.12696  0.33930  0.22372  0.892984   5.876676  1.073666\n",
       "4      (O)  0.37696  0.41070  0.22372  3.398110   7.113324  1.073666\n",
       "..     ...      ...      ...      ...       ...        ...       ...\n",
       "91    (Mn)  0.25000  0.66656  0.00000  2.505125  11.544819  0.000000\n",
       "92    (Mn)  0.50000  0.58344  0.00000  5.010250  10.105181  0.000000\n",
       "93    (Mn)  0.75000  0.83344  0.00000  7.515375  14.435181  0.000000\n",
       "94    (Mn)  0.50000  0.91656  0.00000  5.010250  15.874819  0.000000\n",
       "95    (Mn)  0.75000  0.66656  0.00000  7.515375  11.544819  0.000000\n",
       "\n",
       "[96 rows x 7 columns]"
      ]
     },
     "execution_count": 31,
     "metadata": {},
     "output_type": "execute_result"
    }
   ],
   "source": [
    "structure_df = structure_init.as_dataframe()\n",
    "structure_df"
   ]
  },
  {
   "cell_type": "code",
   "execution_count": 34,
   "id": "a6e7b228-d344-4248-9363-32521fb1b5f2",
   "metadata": {},
   "outputs": [
    {
     "data": {
      "text/plain": [
       "PeriodicSite: O (-0.0829, 1.5467, 3.7255) [0.1230, 0.0893, 0.7763]"
      ]
     },
     "execution_count": 34,
     "metadata": {},
     "output_type": "execute_result"
    }
   ],
   "source": [
    "structure_init[0]"
   ]
  },
  {
   "cell_type": "code",
   "execution_count": 2,
   "id": "3ed10646-09c5-409e-b48c-a27aa9c30355",
   "metadata": {},
   "outputs": [],
   "source": [
    "# structure_init._sites"
   ]
  },
  {
   "cell_type": "code",
   "execution_count": null,
   "id": "c5ede5ad-ad34-482e-9391-dde57b28df67",
   "metadata": {},
   "outputs": [],
   "source": []
  }
 ],
 "metadata": {
  "kernelspec": {
   "display_name": "Python 3",
   "language": "python",
   "name": "python3"
  },
  "language_info": {
   "codemirror_mode": {
    "name": "ipython",
    "version": 3
   },
   "file_extension": ".py",
   "mimetype": "text/x-python",
   "name": "python",
   "nbconvert_exporter": "python",
   "pygments_lexer": "ipython3",
   "version": "3.8.8"
  }
 },
 "nbformat": 4,
 "nbformat_minor": 5
}
