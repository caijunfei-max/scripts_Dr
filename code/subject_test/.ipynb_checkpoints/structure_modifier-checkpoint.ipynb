{
 "cells": [
  {
   "cell_type": "code",
   "execution_count": 3,
   "id": "2d18820e-be5a-4c9b-898b-2670810a74cc",
   "metadata": {},
   "outputs": [],
   "source": [
    "from pymatgen.core import Structure\n",
    "import pandas"
   ]
  },
  {
   "cell_type": "code",
   "execution_count": 8,
   "id": "50983d53-1a46-41d6-86a7-a19c35252d17",
   "metadata": {},
   "outputs": [
    {
     "data": {
      "text/plain": [
       "Structure Summary\n",
       "Lattice\n",
       "    abc : 5.0102272034 8.659992218 5.089726924878647\n",
       " angles : 90.0 109.4532012934286 90.0\n",
       " volume : 208.229093730124\n",
       "      A : 5.0102272034 0.0 0.0\n",
       "      B : 0.0 8.659992218 0.0\n",
       "      C : -1.6950664005 0.0 4.7991738943\n",
       "    pbc : True True True\n",
       "PeriodicSite: Li (-0.8475, 2.9322, 2.3996) [0.0000, 0.3386, 0.5000]\n",
       "PeriodicSite: Li (-0.8475, 5.7278, 2.3996) [0.0000, 0.6614, 0.5000]\n",
       "PeriodicSite: Li (1.6576, 7.2622, 2.3996) [0.5000, 0.8386, 0.5000]\n",
       "PeriodicSite: Li (1.6576, 1.3978, 2.3996) [0.5000, 0.1614, 0.5000]\n",
       "PeriodicSite: Li (-0.8475, 0.0000, 2.3996) [0.0000, 0.0000, 0.5000]\n",
       "PeriodicSite: Li (1.6576, 4.3300, 2.3996) [0.5000, 0.5000, 0.5000]\n",
       "PeriodicSite: Li (0.0000, 4.3300, 0.0000) [0.0000, 0.5000, 0.0000]\n",
       "PeriodicSite: Li (2.5051, 0.0000, 0.0000) [0.5000, 0.0000, 0.0000]\n",
       "PeriodicSite: Mn (0.0000, 1.4452, 0.0000) [0.0000, 0.1669, 0.0000]\n",
       "PeriodicSite: Mn (0.0000, 7.2148, 0.0000) [0.0000, 0.8331, 0.0000]\n",
       "PeriodicSite: Mn (2.5051, 5.7752, 0.0000) [0.5000, 0.6669, 0.0000]\n",
       "PeriodicSite: Mn (2.5051, 2.8848, 0.0000) [0.5000, 0.3331, 0.0000]\n",
       "PeriodicSite: O (-0.0829, 1.5466, 3.7255) [0.2461, 0.1786, 0.7763]\n",
       "PeriodicSite: O (3.3981, 7.1134, 1.0737) [0.7539, 0.8214, 0.2237]\n",
       "PeriodicSite: O (3.3981, 1.5466, 1.0737) [0.7539, 0.1786, 0.2237]\n",
       "PeriodicSite: O (-0.0829, 7.1134, 3.7255) [0.2461, 0.8214, 0.7763]\n",
       "PeriodicSite: O (2.4222, 5.8766, 3.7255) [0.7461, 0.6786, 0.7763]\n",
       "PeriodicSite: O (0.8929, 2.7834, 1.0737) [0.2539, 0.3214, 0.2237]\n",
       "PeriodicSite: O (0.8929, 5.8766, 1.0737) [0.2539, 0.6786, 0.2237]\n",
       "PeriodicSite: O (2.4222, 2.7834, 3.7255) [0.7461, 0.3214, 0.7763]\n",
       "PeriodicSite: O (0.7114, 0.0000, 1.0917) [0.2190, 0.0000, 0.2275]\n",
       "PeriodicSite: O (2.6037, 0.0000, 3.7075) [0.7810, 0.0000, 0.7725]\n",
       "PeriodicSite: O (3.2165, 4.3300, 1.0917) [0.7190, 0.5000, 0.2275]\n",
       "PeriodicSite: O (0.0986, 4.3300, 3.7075) [0.2810, 0.5000, 0.7725]"
      ]
     },
     "execution_count": 8,
     "metadata": {},
     "output_type": "execute_result"
    }
   ],
   "source": [
    "structure_init = Structure.from_file(\"data/Li2MnO3.vasp\")\n",
    "structure_init"
   ]
  },
  {
   "cell_type": "code",
   "execution_count": 7,
   "id": "04749622-a7a9-41d9-8bb5-0514321d2ff3",
   "metadata": {},
   "outputs": [],
   "source": [
    "ele_doping = [\"Ti\",\"V\",\"Cr\",\"Mn\",\"Fe\",\"Co\",\"Ni\",\"Cu\",\"Zn\",\"Y\",\"Zr\",\"Nb\",\"Mo\",\"Ru\",\"Rh\",\"Pd\"]\n",
    "mnSiteList = [i for i in range(8,12)]"
   ]
  },
  {
   "cell_type": "code",
   "execution_count": 12,
   "id": "3d3bb1c9-a0ec-4bd8-80a7-c8314328b895",
   "metadata": {},
   "outputs": [
    {
     "data": {
      "text/plain": [
       "Structure Summary\n",
       "Lattice\n",
       "    abc : 5.0102272034 8.659992218 5.089726924878647\n",
       " angles : 90.0 109.4532012934286 90.0\n",
       " volume : 208.229093730124\n",
       "      A : 5.0102272034 0.0 0.0\n",
       "      B : 0.0 8.659992218 0.0\n",
       "      C : -1.6950664005 0.0 4.7991738943\n",
       "    pbc : True True True\n",
       "PeriodicSite: Li (-0.8475, 2.9322, 2.3996) [0.0000, 0.3386, 0.5000]\n",
       "PeriodicSite: Li (-0.8475, 5.7278, 2.3996) [0.0000, 0.6614, 0.5000]\n",
       "PeriodicSite: Li (1.6576, 7.2622, 2.3996) [0.5000, 0.8386, 0.5000]\n",
       "PeriodicSite: Li (1.6576, 1.3978, 2.3996) [0.5000, 0.1614, 0.5000]\n",
       "PeriodicSite: Li (-0.8475, 0.0000, 2.3996) [0.0000, 0.0000, 0.5000]\n",
       "PeriodicSite: Li (1.6576, 4.3300, 2.3996) [0.5000, 0.5000, 0.5000]\n",
       "PeriodicSite: Li (0.0000, 4.3300, 0.0000) [0.0000, 0.5000, 0.0000]\n",
       "PeriodicSite: Li (2.5051, 0.0000, 0.0000) [0.5000, 0.0000, 0.0000]\n",
       "PeriodicSite: Ti (0.0000, 1.4452, 0.0000) [0.0000, 0.1669, 0.0000]\n",
       "PeriodicSite: Ti (0.0000, 7.2148, 0.0000) [0.0000, 0.8331, 0.0000]\n",
       "PeriodicSite: Co (2.5051, 5.7752, 0.0000) [0.5000, 0.6669, 0.0000]\n",
       "PeriodicSite: Mn (2.5051, 2.8848, 0.0000) [0.5000, 0.3331, 0.0000]\n",
       "PeriodicSite: O (-0.0829, 1.5466, 3.7255) [0.2461, 0.1786, 0.7763]\n",
       "PeriodicSite: O (3.3981, 7.1134, 1.0737) [0.7539, 0.8214, 0.2237]\n",
       "PeriodicSite: O (3.3981, 1.5466, 1.0737) [0.7539, 0.1786, 0.2237]\n",
       "PeriodicSite: O (-0.0829, 7.1134, 3.7255) [0.2461, 0.8214, 0.7763]\n",
       "PeriodicSite: O (2.4222, 5.8766, 3.7255) [0.7461, 0.6786, 0.7763]\n",
       "PeriodicSite: O (0.8929, 2.7834, 1.0737) [0.2539, 0.3214, 0.2237]\n",
       "PeriodicSite: O (0.8929, 5.8766, 1.0737) [0.2539, 0.6786, 0.2237]\n",
       "PeriodicSite: O (2.4222, 2.7834, 3.7255) [0.7461, 0.3214, 0.7763]\n",
       "PeriodicSite: O (0.7114, 0.0000, 1.0917) [0.2190, 0.0000, 0.2275]\n",
       "PeriodicSite: O (2.6037, 0.0000, 3.7075) [0.7810, 0.0000, 0.7725]\n",
       "PeriodicSite: O (3.2165, 4.3300, 1.0917) [0.7190, 0.5000, 0.2275]\n",
       "PeriodicSite: O (0.0986, 4.3300, 3.7075) [0.2810, 0.5000, 0.7725]"
      ]
     },
     "execution_count": 12,
     "metadata": {},
     "output_type": "execute_result"
    }
   ],
   "source": [
    "structure_init.replace(10, species=\"Co\")\n",
    "structure_init"
   ]
  },
  {
   "cell_type": "code",
   "execution_count": null,
   "id": "426d45df-fec7-42b8-b5fd-fdbc1cf5e848",
   "metadata": {},
   "outputs": [],
   "source": [
    "def one_ele(structure, ele_list, site):\n",
    "    # structure should be a Structure object，ele_list should be a list includes all atoms for doping, site_list is sites to be replaced.\n",
    "    for j in ele_list:\n",
    "        structure.replace(site, j)\n",
    "        structure"
   ]
  }
 ],
 "metadata": {
  "kernelspec": {
   "display_name": "Python 3",
   "language": "python",
   "name": "python3"
  },
  "language_info": {
   "codemirror_mode": {
    "name": "ipython",
    "version": 3
   },
   "file_extension": ".py",
   "mimetype": "text/x-python",
   "name": "python",
   "nbconvert_exporter": "python",
   "pygments_lexer": "ipython3",
   "version": "3.8.8"
  }
 },
 "nbformat": 4,
 "nbformat_minor": 5
}
