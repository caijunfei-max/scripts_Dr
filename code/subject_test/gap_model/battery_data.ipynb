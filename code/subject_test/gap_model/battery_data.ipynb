{
 "cells": [
  {
   "cell_type": "code",
   "execution_count": 2,
   "id": "97da4771-20c4-4222-bfc0-d0c146b29c5e",
   "metadata": {},
   "outputs": [],
   "source": [
    "from mp_api.client import routes\n",
    "from pymatgen.core.periodic_table import Element"
   ]
  },
  {
   "cell_type": "code",
   "execution_count": null,
   "id": "f8bf3c9a-c5c9-4b6a-9edc-88ae13182d4f",
   "metadata": {},
   "outputs": [],
   "source": [
    "API_KEY = \"fqPPo7Czb5mkbFh8mltlZd0I33csuKv0\"\n",
    "bpr = routes.ElectrodeRester(API_KEY)"
   ]
  },
  {
   "cell_type": "code",
   "execution_count": null,
   "id": "f88c214b-4d84-4c6f-9048-b3a47f6d835f",
   "metadata": {},
   "outputs": [
    {
     "data": {
      "application/vnd.jupyter.widget-view+json": {
       "model_id": "d7000cc5111146a0a29acc7e2943ffcc",
       "version_major": 2,
       "version_minor": 0
      },
      "text/plain": [
       "Retrieving InsertionElectrodeDoc documents:   0%|          | 0/2440 [00:00<?, ?it/s]"
      ]
     },
     "metadata": {},
     "output_type": "display_data"
    }
   ],
   "source": [
    "docs = bpr.search(working_ion=Element('Li'), all_fields=True)"
   ]
  },
  {
   "cell_type": "code",
   "execution_count": 17,
   "id": "25f01753-adf5-4093-bc84-ff9f8fdc7919",
   "metadata": {},
   "outputs": [
    {
     "data": {
      "text/plain": [
       "\u001b[4m\u001b[1mMPDataDoc<InsertionElectrodeDoc>\u001b[0;0m\u001b[0;0m(\n",
       "\u001b[1mbattery_id\u001b[0;0m='mp-25391_Li',\n",
       "\u001b[1mbattery_formula\u001b[0;0m='Li0-2CrPO4F',\n",
       "\u001b[1mworking_ion\u001b[0;0m=Element Li,\n",
       "\u001b[1mnum_steps\u001b[0;0m=3,\n",
       "\u001b[1mmax_voltage_step\u001b[0;0m=2.8107564399999916,\n",
       "\u001b[1mlast_updated\u001b[0;0m=datetime.datetime(2022, 6, 28, 3, 50, 55, 321000),\n",
       "\u001b[1mframework\u001b[0;0m=Comp: Cr1 P1 O4 F1,\n",
       "\u001b[1mframework_formula\u001b[0;0m='CrPO4F',\n",
       "\u001b[1melements\u001b[0;0m=[Element Cr, Element P, Element O, Element F],\n",
       "\u001b[1mnelements\u001b[0;0m=4,\n",
       "\u001b[1mchemsys\u001b[0;0m='Cr-F-O-P',\n",
       "\u001b[1mformula_anonymous\u001b[0;0m='ABCD4',\n",
       "\u001b[1mwarnings\u001b[0;0m=['More than one working ion per transition metal'],\n",
       "\u001b[1mformula_charge\u001b[0;0m='CrPO4F',\n",
       "\u001b[1mformula_discharge\u001b[0;0m='Li2CrPO4F',\n",
       "\u001b[1mmax_delta_volume\u001b[0;0m=0.18618818505081092,\n",
       "\u001b[1maverage_voltage\u001b[0;0m=3.376453978333335,\n",
       "\u001b[1mcapacity_grav\u001b[0;0m=298.0461415603602,\n",
       "\u001b[1mcapacity_vol\u001b[0;0m=881.2607797091557,\n",
       "\u001b[1menergy_grav\u001b[0;0m=1006.3390803983784,\n",
       "\u001b[1menergy_vol\u001b[0;0m=2975.5364655981157,\n",
       "\u001b[1mfracA_charge\u001b[0;0m=0.0,\n",
       "\u001b[1mfracA_discharge\u001b[0;0m=0.2222222222222222,\n",
       "\u001b[1mstability_charge\u001b[0;0m=0.044246183214283086,\n",
       "\u001b[1mstability_discharge\u001b[0;0m=0.04091348243055126,\n",
       "\u001b[1mid_charge\u001b[0;0m=MPID(mp-755075),\n",
       "\u001b[1mid_discharge\u001b[0;0m=MPID(mp-25391),\n",
       "\u001b[1mhost_structure\u001b[0;0m=Structure Summary\n",
       "Lattice\n",
       "    abc : 5.151741 5.1643015171628 7.295379551761992\n",
       " angles : 107.21214897542676 109.22435181807607 96.40638397802756\n",
       " volume : 170.29811778169977\n",
       "      A : 5.151741 0.0 0.0\n",
       "      B : -0.576231 5.132053 0.0\n",
       "      C : -2.402135 -2.442059 6.441169\n",
       "    pbc : True True True\n",
       "PeriodicSite: Cr (0.0000, 0.0000, 0.0000) [0.0000, 0.0000, 0.0000]\n",
       "PeriodicSite: Cr (-1.2011, -1.2210, 3.2206) [0.0000, 0.0000, 0.5000]\n",
       "PeriodicSite: P (-0.5191, 1.4484, 4.9229) [0.3278, 0.6459, 0.7643]\n",
       "PeriodicSite: P (2.6925, 1.2416, 1.5182) [0.6722, 0.3541, 0.2357]\n",
       "PeriodicSite: O (0.6227, 1.6835, 5.9208) [0.6351, 0.7654, 0.9192]\n",
       "PeriodicSite: O (-0.5716, 2.5926, 3.8762) [0.2582, 0.7915, 0.6018]\n",
       "PeriodicSite: O (-0.2346, 0.1308, 4.1861) [0.2949, 0.3347, 0.6499]\n",
       "PeriodicSite: O (4.0232, 1.3504, 0.7206) [0.8685, 0.3164, 0.1119]\n",
       "PeriodicSite: O (-1.8499, 1.3396, 5.7206) [0.1315, 0.6836, 0.8881]\n",
       "PeriodicSite: O (2.4080, 2.5592, 2.2551) [0.7051, 0.6653, 0.3501]\n",
       "PeriodicSite: O (2.7450, 0.0974, 2.5650) [0.7418, 0.2085, 0.3982]\n",
       "PeriodicSite: O (1.5506, 1.0065, 0.5203) [0.3649, 0.2346, 0.0808]\n",
       "PeriodicSite: F (-0.5764, 4.1898, 1.7055) [0.1170, 0.9424, 0.2648]\n",
       "PeriodicSite: F (2.7498, -1.4998, 4.7357) [0.8830, 0.0576, 0.7352],\n",
       "\u001b[1madj_pairs\u001b[0;0m=[InsertionVoltagePairDoc(formula_charge='CrPO4F', formula_discharge='LiCrPO4F', max_delta_volume=0.045436593616666965, average_voltage=4.849770623333332, capacity_grav=155.00530366080505, capacity_vol=499.9543402356567, energy_grav=751.7401681550349, energy_vol=2424.663872282885, fracA_charge=0.0, fracA_discharge=0.125, stability_charge=0.044246183214283086, stability_discharge=0.0, id_charge=MPID(mp-755075), id_discharge=MPID(mp-25448)), InsertionVoltagePairDoc(formula_charge='LiCrPO4F', formula_discharge='Li3Cr2P2(O4F)2', max_delta_volume=0.06251225855051179, average_voltage=2.0390141833333404, capacity_grav=75.97766616757436, capacity_vol=235.26991628204772, energy_grav=154.9195389322498, energy_vol=479.7186962107429, fracA_charge=0.125, fracA_discharge=0.17647058823529413, stability_charge=0.0, stability_discharge=0.01446067867647649, id_charge=MPID(mp-25448), id_discharge=MPID(mp-759310)), InsertionVoltagePairDoc(formula_charge='Li3Cr2P2(O4F)2', formula_discharge='Li2CrPO4F', max_delta_volume=0.06787875597819881, average_voltage=1.7672604833333356, capacity_grav=74.51153539009005, capacity_vol=220.31519492728893, energy_grav=131.68129204739947, energy_vol=389.35433787287866, fracA_charge=0.17647058823529413, fracA_discharge=0.2222222222222222, stability_charge=0.01446067867647649, stability_discharge=0.04091348243055126, id_charge=MPID(mp-759310), id_discharge=MPID(mp-25391))],\n",
       "\u001b[1mmaterial_ids\u001b[0;0m=[MPID(mp-755075), MPID(mp-25448), MPID(mp-759310), MPID(mp-25391), MPID(mp-1172979), MPID(mp-752727)],\n",
       "\u001b[1mentries_composition_summary\u001b[0;0m=EntriesCompositionSummary(all_formulas=['LiCrPO4F', 'CrPO4F', 'Li3Cr2P2(O4F)2', 'Li2CrPO4F'], all_chemsys=['Cr-F-Li-O-P', 'Cr-F-O-P'], all_formula_anonymous=['ABCDE4', 'ABCD4', 'A2B2C2D3E8', 'ABCD2E4'], all_elements=[Element Li, Element Cr, Element P, Element O, Element F], all_composition_reduced={'Cr': [1.0, 2.0], 'P': [1.0, 2.0], 'O': [8.0, 4.0], 'F': [1.0, 2.0], 'Li': [1.0, 2.0, 3.0]}),\n",
       "\u001b[1melectrode_object\u001b[0;0m=InsertionElectrode with endpoints at CrPO4F and Li2CrPO4F\n",
       "Avg. volt. = 3.376453978333335 V\n",
       "Grav. cap. = 298.0461415603602 mAh/g\n",
       "Vol. cap. = 881.2607797091557,\n",
       "\u001b[1mfields_not_requested\u001b[0;0m=['battery_type', 'thermo_type']\n",
       ")"
      ]
     },
     "execution_count": 17,
     "metadata": {},
     "output_type": "execute_result"
    }
   ],
   "source": [
    "docs[200]"
   ]
  }
 ],
 "metadata": {
  "kernelspec": {
   "display_name": "Python 3",
   "language": "python",
   "name": "python3"
  },
  "language_info": {
   "codemirror_mode": {
    "name": "ipython",
    "version": 3
   },
   "file_extension": ".py",
   "mimetype": "text/x-python",
   "name": "python",
   "nbconvert_exporter": "python",
   "pygments_lexer": "ipython3",
   "version": "3.8.8"
  }
 },
 "nbformat": 4,
 "nbformat_minor": 5
}
