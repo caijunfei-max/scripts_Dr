{
 "cells": [
  {
   "cell_type": "code",
   "execution_count": 34,
   "id": "2d18820e-be5a-4c9b-898b-2670810a74cc",
   "metadata": {},
   "outputs": [],
   "source": [
    "from pymatgen.core import Structure\n",
    "import pandas\n",
    "import numpy as np\n",
    "from itertools import combinations,permutations"
   ]
  },
  {
   "cell_type": "code",
   "execution_count": 37,
   "id": "50983d53-1a46-41d6-86a7-a19c35252d17",
   "metadata": {},
   "outputs": [
    {
     "data": {
      "text/plain": [
       "Structure Summary\n",
       "Lattice\n",
       "    abc : 5.0102272034 8.659992218 5.089726924878647\n",
       " angles : 90.0 109.4532012934286 90.0\n",
       " volume : 208.229093730124\n",
       "      A : 5.0102272034 0.0 0.0\n",
       "      B : 0.0 8.659992218 0.0\n",
       "      C : -1.6950664005 0.0 4.7991738943\n",
       "    pbc : True True True\n",
       "PeriodicSite: Li (-0.8475, 2.9322, 2.3996) [0.0000, 0.3386, 0.5000]\n",
       "PeriodicSite: Li (-0.8475, 5.7278, 2.3996) [0.0000, 0.6614, 0.5000]\n",
       "PeriodicSite: Li (1.6576, 7.2622, 2.3996) [0.5000, 0.8386, 0.5000]\n",
       "PeriodicSite: Li (1.6576, 1.3978, 2.3996) [0.5000, 0.1614, 0.5000]\n",
       "PeriodicSite: Li (-0.8475, 0.0000, 2.3996) [0.0000, 0.0000, 0.5000]\n",
       "PeriodicSite: Li (1.6576, 4.3300, 2.3996) [0.5000, 0.5000, 0.5000]\n",
       "PeriodicSite: Li (0.0000, 4.3300, 0.0000) [0.0000, 0.5000, 0.0000]\n",
       "PeriodicSite: Li (2.5051, 0.0000, 0.0000) [0.5000, 0.0000, 0.0000]\n",
       "PeriodicSite: Mn (0.0000, 1.4452, 0.0000) [0.0000, 0.1669, 0.0000]\n",
       "PeriodicSite: Mn (0.0000, 7.2148, 0.0000) [0.0000, 0.8331, 0.0000]\n",
       "PeriodicSite: Mn (2.5051, 5.7752, 0.0000) [0.5000, 0.6669, 0.0000]\n",
       "PeriodicSite: Mn (2.5051, 2.8848, 0.0000) [0.5000, 0.3331, 0.0000]\n",
       "PeriodicSite: O (-0.0829, 1.5466, 3.7255) [0.2461, 0.1786, 0.7763]\n",
       "PeriodicSite: O (3.3981, 7.1134, 1.0737) [0.7539, 0.8214, 0.2237]\n",
       "PeriodicSite: O (3.3981, 1.5466, 1.0737) [0.7539, 0.1786, 0.2237]\n",
       "PeriodicSite: O (-0.0829, 7.1134, 3.7255) [0.2461, 0.8214, 0.7763]\n",
       "PeriodicSite: O (2.4222, 5.8766, 3.7255) [0.7461, 0.6786, 0.7763]\n",
       "PeriodicSite: O (0.8929, 2.7834, 1.0737) [0.2539, 0.3214, 0.2237]\n",
       "PeriodicSite: O (0.8929, 5.8766, 1.0737) [0.2539, 0.6786, 0.2237]\n",
       "PeriodicSite: O (2.4222, 2.7834, 3.7255) [0.7461, 0.3214, 0.7763]\n",
       "PeriodicSite: O (0.7114, 0.0000, 1.0917) [0.2190, 0.0000, 0.2275]\n",
       "PeriodicSite: O (2.6037, 0.0000, 3.7075) [0.7810, 0.0000, 0.7725]\n",
       "PeriodicSite: O (3.2165, 4.3300, 1.0917) [0.7190, 0.5000, 0.2275]\n",
       "PeriodicSite: O (0.0986, 4.3300, 3.7075) [0.2810, 0.5000, 0.7725]"
      ]
     },
     "execution_count": 37,
     "metadata": {},
     "output_type": "execute_result"
    }
   ],
   "source": [
    "structure_init = Structure.from_file(\"data/Li2MnO3.vasp\")\n",
    "structure_init"
   ]
  },
  {
   "cell_type": "code",
   "execution_count": 3,
   "id": "04749622-a7a9-41d9-8bb5-0514321d2ff3",
   "metadata": {},
   "outputs": [],
   "source": [
    "ele_doping = [\"Ti\",\"V\",\"Cr\",\"Mn\",\"Fe\",\"Co\",\"Ni\",\"Cu\",\"Zn\",\"Y\",\"Zr\",\"Nb\",\"Mo\",\"Ru\",\"Rh\",\"Pd\"]\n",
    "mnSiteList = [i for i in range(8,12)]"
   ]
  },
  {
   "cell_type": "code",
   "execution_count": 38,
   "id": "3d3bb1c9-a0ec-4bd8-80a7-c8314328b895",
   "metadata": {},
   "outputs": [
    {
     "data": {
      "text/plain": [
       "Structure Summary\n",
       "Lattice\n",
       "    abc : 5.0102272034 8.659992218 5.089726924878647\n",
       " angles : 90.0 109.4532012934286 90.0\n",
       " volume : 208.229093730124\n",
       "      A : 5.0102272034 0.0 0.0\n",
       "      B : 0.0 8.659992218 0.0\n",
       "      C : -1.6950664005 0.0 4.7991738943\n",
       "    pbc : True True True\n",
       "PeriodicSite: Li (-0.8475, 2.9322, 2.3996) [0.0000, 0.3386, 0.5000]\n",
       "PeriodicSite: Li (-0.8475, 5.7278, 2.3996) [0.0000, 0.6614, 0.5000]\n",
       "PeriodicSite: Li (1.6576, 7.2622, 2.3996) [0.5000, 0.8386, 0.5000]\n",
       "PeriodicSite: Li (1.6576, 1.3978, 2.3996) [0.5000, 0.1614, 0.5000]\n",
       "PeriodicSite: Li (-0.8475, 0.0000, 2.3996) [0.0000, 0.0000, 0.5000]\n",
       "PeriodicSite: Li (1.6576, 4.3300, 2.3996) [0.5000, 0.5000, 0.5000]\n",
       "PeriodicSite: Li (0.0000, 4.3300, 0.0000) [0.0000, 0.5000, 0.0000]\n",
       "PeriodicSite: Li (2.5051, 0.0000, 0.0000) [0.5000, 0.0000, 0.0000]\n",
       "PeriodicSite: Mn (0.0000, 1.4452, 0.0000) [0.0000, 0.1669, 0.0000]\n",
       "PeriodicSite: Mn (0.0000, 7.2148, 0.0000) [0.0000, 0.8331, 0.0000]\n",
       "PeriodicSite: Mn (2.5051, 5.7752, 0.0000) [0.5000, 0.6669, 0.0000]\n",
       "PeriodicSite: Mn (2.5051, 2.8848, 0.0000) [0.5000, 0.3331, 0.0000]\n",
       "PeriodicSite: O (-0.0829, 1.5466, 3.7255) [0.2461, 0.1786, 0.7763]\n",
       "PeriodicSite: O (3.3981, 7.1134, 1.0737) [0.7539, 0.8214, 0.2237]\n",
       "PeriodicSite: O (3.3981, 1.5466, 1.0737) [0.7539, 0.1786, 0.2237]\n",
       "PeriodicSite: O (-0.0829, 7.1134, 3.7255) [0.2461, 0.8214, 0.7763]\n",
       "PeriodicSite: O (2.4222, 5.8766, 3.7255) [0.7461, 0.6786, 0.7763]\n",
       "PeriodicSite: O (0.8929, 2.7834, 1.0737) [0.2539, 0.3214, 0.2237]\n",
       "PeriodicSite: O (0.8929, 5.8766, 1.0737) [0.2539, 0.6786, 0.2237]\n",
       "PeriodicSite: O (2.4222, 2.7834, 3.7255) [0.7461, 0.3214, 0.7763]\n",
       "PeriodicSite: O (0.7114, 0.0000, 1.0917) [0.2190, 0.0000, 0.2275]\n",
       "PeriodicSite: O (2.6037, 0.0000, 3.7075) [0.7810, 0.0000, 0.7725]\n",
       "PeriodicSite: O (3.2165, 4.3300, 1.0917) [0.7190, 0.5000, 0.2275]\n",
       "PeriodicSite: O (0.0986, 4.3300, 3.7075) [0.2810, 0.5000, 0.7725]"
      ]
     },
     "execution_count": 38,
     "metadata": {},
     "output_type": "execute_result"
    }
   ],
   "source": [
    "structure_init"
   ]
  },
  {
   "cell_type": "code",
   "execution_count": 10,
   "id": "426d45df-fec7-42b8-b5fd-fdbc1cf5e848",
   "metadata": {},
   "outputs": [],
   "source": [
    "\n",
    "def unitary_dop(struct, ele_list, site):\n",
    "    # struct should be a Structure object，\n",
    "    # ele_list should be a list includes all atoms for doping\n",
    "    # site is str or list includs sites to be replaced.\n",
    "    # This method is used to perform doping of one element \n",
    "    if type(site) == int:\n",
    "        for ele in ele_list:\n",
    "            struct.replace(site, ele)\n",
    "            struct_name = \"Li2MnO3_{0}.vasp\".format(ele)\n",
    "            struct.to(fmt=\"poscar\",filename=struct_name)\n",
    "    elif type(site) == list:\n",
    "        for ele in ele_list:\n",
    "            for i in site:\n",
    "                struct.replace(i, ele)\n",
    "                struct_name = \"Li2MnO3_{0}_{1}.vasp\".format(ele, str(len(site)))\n",
    "                struct.to (fmt=\"poscar\",filename=struct_name)\n",
    "            \n",
    "    \n",
    "# example        \n",
    "# unitary_dop(struct=structure_init, ele_list=ele_doping, site=[8,9,10])"
   ]
  },
  {
   "cell_type": "code",
   "execution_count": 31,
   "id": "75401397-33f6-411d-a10e-c00ce06e1988",
   "metadata": {},
   "outputs": [],
   "source": [
    "a = combinations(ele_doping,2)\n"
   ]
  },
  {
   "cell_type": "code",
   "execution_count": 40,
   "id": "d31f1ab5-2044-4742-a4a4-bec808162b3e",
   "metadata": {},
   "outputs": [],
   "source": [
    "def binary_dop(struct, ele_list, site1, site2):\n",
    "    # performing binary_dop on a compound\n",
    "    # struct:pymatgen.core.Structure site1,site2:list ele_list:list\n",
    "    if len(site1)==len(site2):\n",
    "        binary_com = combinations(ele_list, 2)\n",
    "        for com in binary_com:\n",
    "            for i in site1:\n",
    "                struct.replace(i,com[0])\n",
    "            for j in site2:\n",
    "                struct.replace(j,com[1])\n",
    "            struct_name=\"Li2MnO3_{0}_{1}_{2}_{3}.vasp\".format(com[0],len(site1),com[1],len(site2))\n",
    "            struct.to(fmt=\"poscar\",filename=struct_name)\n",
    "    else:\n",
    "        binary_com = permutations(ele_list,2)\n",
    "        for com in binary_com:\n",
    "            for i in site_1:\n",
    "                struct.replace(i,com[0])\n",
    "            for j in site_2:\n",
    "                struct.replace(j,com[1])\n",
    "            struct_name=\"Li2MnO3_{0}_{1}_{2}_{3}.vasp\".format(com[0],len(site1),com[1],len(site2))\n",
    "            struct.to(fmt=\"poscar\",filename=struct_name)\n",
    "            \n",
    "# test_list=[\"Na\",\"Mg\",\"Al\",\"Si\"]    \n",
    "# site_1=[8]\n",
    "# site_2=[9,10]\n",
    "# binary_dop(structure_init,test_list,site_1,site_2)\n",
    "    "
   ]
  },
  {
   "cell_type": "code",
   "execution_count": 47,
   "id": "3fb83e28-d1d9-439b-a60b-62c7af090a7d",
   "metadata": {},
   "outputs": [],
   "source": [
    "def ternary_dop(struct, ele_list, site1, site2, site3):\n",
    "    # performing ternary_dop on a compound\n",
    "    # struct:pymatgen.core Structure, ele_list:list, site1,site2,site3:int\n",
    "    ternary_com = combinations(ele_list, 3)\n",
    "    for com in ternary_com:\n",
    "        struct.replace(site1,com[0])\n",
    "        struct.replace(site2,com[1])\n",
    "        struct.replace(site3,com[2])\n",
    "        struct_name=\"Li2MnO3_{0}_{1}_{2}\".format(com[0],com[1],com[2])\n",
    "        struct.to(fmt=\"poscar\", filename=struct_name)\n",
    "    \n",
    "# test_list = [\"Na\",\"Mg\",\"Al\",\"Si\"] \n",
    "\n",
    "# ternary_dop(structure_init,test_list,8,9,10)\n"
   ]
  }
 ],
 "metadata": {
  "kernelspec": {
   "display_name": "Python 3",
   "language": "python",
   "name": "python3"
  },
  "language_info": {
   "codemirror_mode": {
    "name": "ipython",
    "version": 3
   },
   "file_extension": ".py",
   "mimetype": "text/x-python",
   "name": "python",
   "nbconvert_exporter": "python",
   "pygments_lexer": "ipython3",
   "version": "3.10.9"
  }
 },
 "nbformat": 4,
 "nbformat_minor": 5
}
