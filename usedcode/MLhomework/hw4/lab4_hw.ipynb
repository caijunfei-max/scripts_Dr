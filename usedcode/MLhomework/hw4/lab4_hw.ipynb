{
 "cells": [
  {
   "cell_type": "markdown",
   "id": "08df137d-1dc0-4bb5-9a58-8785e5d26442",
   "metadata": {},
   "source": [
    "# 背景概述\n",
    "\n",
    "$\\quad$1865年, 俄国化学家[门捷列夫(Mendeleev)](https://en.wikipedia.org/wiki/Dmitri_Mendeleev)根据相对原子质量的增长关系所呈现的周期性, 发表了最早版本的[元素周期表(periodic table)](https://en.wikipedia.org/wiki/Periodic_table). 在本次上机作业中, 我们将根据若干元素的原子参数数据, 尝试挖掘这些化学元素中的内禀规律, 并作一个简单的聚类分析.\n",
    "- 参考文献: [J. Chem. Educ. 2020, 97, 6, 1666–1676](https://pubs.acs.org/doi/10.1021/acs.jchemed.9b00924).\n",
    "\n",
    "$\\quad$由于t-SNE算法的版本更新问题, 可能会输出一些警告(warning). 出于简化, 我们在本次作业中忽略这些警告. 请运行下面的代码块."
   ]
  },
  {
   "cell_type": "code",
   "execution_count": null,
   "id": "71727a65-247e-405f-b720-dbdf459121cc",
   "metadata": {},
   "outputs": [],
   "source": [
    "import warnings\n",
    "warnings.simplefilter(\"ignore\")"
   ]
  },
  {
   "cell_type": "markdown",
   "id": "9021a7d4-c0c7-490e-acbb-545b976db608",
   "metadata": {},
   "source": [
    "# 数据读取与清洗\n",
    "\n",
    "$\\quad$请运行下面的代码块, 读入`chem_elements.csv`数据集(已丢弃所有含缺失值的元素)."
   ]
  },
  {
   "cell_type": "code",
   "execution_count": null,
   "id": "bd3c2c5c-11bb-48fb-a94a-ea95e599576b",
   "metadata": {},
   "outputs": [],
   "source": [
    "import pandas as pd\n",
    "raw_data = pd.read_csv(\"./chem_elements.csv\", sep=\";\").dropna()\n",
    "raw_data"
   ]
  },
  {
   "cell_type": "markdown",
   "id": "22d5fe57-b16b-4a93-b57d-8dd641c37679",
   "metadata": {},
   "source": [
    "$\\quad$**任务1**: 完成函数`preprocess_chem_elements`的编写, 输入:\n",
    "- `raw_data`: 原始数据(缺失值已丢弃, 无需额外处理), 为一个`pd.DataFrame`对象;\n",
    "- `feature_cols`: 一个列表, 用于下游降维/聚类任务的特征列名;\n",
    "- `idx_col`: 字符串, 用作新的数据表的列名.\n",
    "\n",
    "要求: (1)根据给定的`idx_col`重新设置表格索引, 并将原索引丢弃; (2) 挑选出原始数据中的`feature_cols`列、并作均值-方差归一化. 最终返回一个处理好的、只含`feature_cols`列的(归一化)数据表, 索引按`idx_col`确定."
   ]
  },
  {
   "cell_type": "markdown",
   "id": "faa3e99f-3b3f-4507-bfd5-66722c005a68",
   "metadata": {},
   "source": [
    "### 提示\n",
    "- 索引重置方法可以参考[`df.reset_index`](https://pandas.pydata.org/docs/reference/api/pandas.DataFrame.reset_index.html#pandas-dataframe-reset-index)方法;\n",
    "- 归一化可以参考[`sklearn.preprocessing.StandardScaler`](https://scikit-learn.org/stable/modules/generated/sklearn.preprocessing.StandardScaler.html#sklearn-preprocessing-standardscaler)模块;\n",
    "- 可以复习前2次上机作业对于`pandas`库的介绍."
   ]
  },
  {
   "cell_type": "code",
   "execution_count": null,
   "id": "712c5eef-9e73-4eba-8fbc-1c6eb0c008fb",
   "metadata": {},
   "outputs": [],
   "source": [
    "from typing import List\n",
    "from sklearn.preprocessing import StandardScaler\n",
    "\n",
    "def preprocess_chem_elements(\n",
    "    raw_data: pd.DataFrame, feature_cols: List[str],\n",
    "    idx_col: str=\"Symbol\"\n",
    ") -> pd.DataFrame:\n",
    "    ### BEGIN YOUR SOLUTION ###\n",
    "    \n",
    "    ### END YOUR SOLUTION ###"
   ]
  },
  {
   "cell_type": "markdown",
   "id": "e48bfd69-d12f-48dd-b1a3-c889c4dff4bd",
   "metadata": {},
   "source": [
    "$\\quad$完成任务1后, 请运行下面的代码块, 给出处理好的数据表`X`. 我们所选取的特征包括:\n",
    "- 原子质量`AtomicMass`, 单位u;\n",
    "- 原子半径`AtomicRadius`, 采取[van der Waals半径](https://en.wikipedia.org/wiki/Van_der_Waals_radius), 单位pm;\n",
    "- 电离能`IonizationEnery`, 单位eV;\n",
    "- 电子亲合能`ElectronAffinity`, 单位eV;\n",
    "- 电负性`Electronegativity`, 采取[Pauling标度](https://en.wikipedia.org/wiki/Electronegativity#Pauling_electronegativity);\n",
    "- 熔点`MeltingPoint`, 单位K;\n",
    "- 沸点`BoilingPoint`, 单位K;\n",
    "- 单质密度`Density`, 单位g/mL."
   ]
  },
  {
   "cell_type": "code",
   "execution_count": null,
   "id": "5269b7f5-b32d-44ff-a2be-e20992729188",
   "metadata": {},
   "outputs": [],
   "source": [
    "feature_cols = [\n",
    "    \"AtomicMass\",\n",
    "    \"AtomicRadius\",\n",
    "    \"IonizationEnergy\",\n",
    "    \"ElectronAffinity\",\n",
    "    \"Electronegativity\",\n",
    "    \"MeltingPoint\",\n",
    "    \"BoilingPoint\",\n",
    "    \"Density\"\n",
    "]\n",
    "X = preprocess_chem_elements(\n",
    "    raw_data,\n",
    "    feature_cols=feature_cols\n",
    ")\n",
    "X"
   ]
  },
  {
   "cell_type": "markdown",
   "id": "c17e10ac-cfe5-43f4-a807-c39544c752f0",
   "metadata": {},
   "source": [
    "# 数据的主元分析\n",
    "\n",
    "$\\quad$在本节, 我们以PCA模型进行数据降维, 并对前两个主元作相应的可视化分析.\n",
    "\n",
    "$\\quad$**任务2**: 完成函数`get_pc_info`的编写. 输入数据`X`和PCA组分数`n_components`, 对数据`X`作PCA模型的训练与变换, 并提取相应的信息. 返回一个三元组:\n",
    "- 降维后的数据`X_reduced`, 形状应为`(n_samples, n_components)`;\n",
    "- 各个主元的方差解释比例`explained_variance_ratio`;\n",
    "- 主元变换矩阵`components`, 形状为`(n_components, n_features)`."
   ]
  },
  {
   "cell_type": "code",
   "execution_count": null,
   "id": "abdd78f0-e629-45a8-aae7-37df487129ae",
   "metadata": {},
   "outputs": [],
   "source": [
    "from typing import Tuple\n",
    "import numpy as np\n",
    "from sklearn.decomposition import PCA\n",
    "\n",
    "def get_pc_info(\n",
    "    X: pd.DataFrame, n_components: int=2\n",
    ") -> Tuple[np.array, np.array, np.array]:\n",
    "    ### BEGIN YOUR SOLUTION ###\n",
    "    #\n",
    "    ### END YOUR SOLUTION ###"
   ]
  },
  {
   "cell_type": "markdown",
   "id": "2c43320f-083c-4543-9dde-bc571eb7ddfb",
   "metadata": {},
   "source": [
    "$\\quad$完成任务2后, 请运行下面的代码进行检查."
   ]
  },
  {
   "cell_type": "code",
   "execution_count": null,
   "id": "0397c264-bc9f-40cc-95c4-162bd47b64ca",
   "metadata": {},
   "outputs": [],
   "source": [
    "X_reduced, explained_variance_ratio, components = get_pc_info(X)\n",
    "X_reduced.shape, explained_variance_ratio.shape, components.shape"
   ]
  },
  {
   "cell_type": "markdown",
   "id": "82d16174-5395-4bbf-9915-fd49318b1f40",
   "metadata": {},
   "source": [
    "$\\quad$**任务3**: 运行下面两个代码块, 根据给定的函数`plot_pc1_pc2`完成可视化分析, 在对应的答题区回答下面的问题:\n",
    "\n",
    "- 观察左图, 这是二维隐空间中样本的散点分布. 回答: 四个象限的元素各自以哪一类为主? 请作出分配: (a) 过渡金属元素; (b) 主族金属元素; (c) 主族非金属元素; (d) 卤素.\n",
    "- 观察右图, 这是将变换矩阵的每一列(作为二维向量)画成矢量给出的**载荷图**(loading plot). 两个向量朝向相近表明它们之间存在某种内禀共性. 请回答:\n",
    "  - 第三象限聚集的那些原始特征大多与元素的什么性质有关? 请作出选择: (a) 原子聚集行为; (b) 电子吸引能力.\n",
    "  - 第四象限聚集的那些原始特征大多与元素的什么性质有关? 请作出选择: (a) 原子聚集行为; (b) 电子吸引能力.\n",
    "  - 第二象限只分布有一个原始特征, 它与第四象限的那些特征具有较强的“负相关性”, 请作出简单解释."
   ]
  },
  {
   "cell_type": "code",
   "execution_count": null,
   "id": "121fdc51-fa70-4f78-951b-681c1fdceb3d",
   "metadata": {},
   "outputs": [],
   "source": [
    "from matplotlib import pyplot as plt\n",
    "\n",
    "def plot_pc1_pc2(X_reduced, explained_variance_ratio, components, idxs, feature_cols):\n",
    "    fig, (ax1, ax2) = plt.subplots(1, 2, layout=\"constrained\", figsize=(10, 4))\n",
    "    # sample plot\n",
    "    ax1.scatter(X_reduced[:, 0], X_reduced[:, 1])\n",
    "    ax1.set_aspect('equal', adjustable='box')\n",
    "    ax1.axhline(y=0, linestyle=\"--\")\n",
    "    ax1.axvline(x=0, linestyle=\"--\")\n",
    "    for i, idx in enumerate(idxs):\n",
    "        ax1.annotate(idx, (X_reduced[i, 0], X_reduced[i, 1]))\n",
    "    # loading plot\n",
    "    ax2.add_patch(plt.Circle((0, 0), 1.0, fill=False, edgecolor=\"red\", linestyle=\"--\"))\n",
    "    n_features = components.shape[1]\n",
    "    for i in range(n_features):\n",
    "        ax2.arrow(0, 0, components[0, i], components[1, i], head_width=0.05)\n",
    "        ax2.annotate(feature_cols[i], (components[0, i] - 0.25, components[1, i]), fontsize=8)\n",
    "    ax2.axhline(y=0, linestyle=\"--\")\n",
    "    ax2.axvline(x=0, linestyle=\"--\")\n",
    "    ax2.set_aspect('equal', adjustable='box')\n",
    "    # title, axes, and annotation\n",
    "    ratio1, ratio2 = explained_variance_ratio\n",
    "    ax1.set_title(\"Samples in latent space\")\n",
    "    ax1.set_xlabel(f\"PC1({ratio1 * 100:.2f}%)\")\n",
    "    ax1.set_ylabel(f\"PC2({ratio2 * 100:.2f}%)\")\n",
    "    ax2.set_title(\"Loading plot\")\n",
    "    ax2.set_xlabel(f\"PC1({ratio1 * 100:.2f}%)\")\n",
    "    ax2.set_ylabel(f\"PC2({ratio2 * 100:.2f}%)\")\n",
    "    plt.show()"
   ]
  },
  {
   "cell_type": "code",
   "execution_count": null,
   "id": "6aee3690-81a8-46ea-a42b-b4c48dab0593",
   "metadata": {},
   "outputs": [],
   "source": [
    "plot_pc1_pc2(X_reduced, explained_variance_ratio, components, X.index, feature_cols)\n",
    "\n",
    "### 任务3答题区(另起一行时请记得加注释符号#) ###\n",
    "### BEGIN YOUR SOLUTION ###\n",
    "#\n",
    "### END YOUR SOLUTION"
   ]
  },
  {
   "cell_type": "markdown",
   "id": "10c770ae-9a3c-4cb6-9d2b-bc853c278814",
   "metadata": {},
   "source": [
    "# 隐空间上的聚类分析\n",
    "\n",
    "$\\quad$我们在降维后的隐空间上进行k-means聚类, 并对聚类结果进行评估. 具体试验的降维算法将包括PCA、Isomap与t-SNE, 均控制为降到3维. 由于聚类分析是非监督的, 它没有类似“准确率”这样的评估指标, 本节我们采取的指标有两个:\n",
    "- (调整的)随机指数相似性, 以[`adjusted_rand_score`](https://scikit-learn.org/stable/modules/generated/sklearn.metrics.adjusted_rand_score.html#sklearn.metrics.adjusted_rand_score)方法实现. 这一指标适合本例的情形, 即存在一组真实标签作为对照. 该指标大致可以理解为真实标签与预测标签在“分配结构”上的相似性.\n",
    "- **轮廓系数**(silhouette coefficient), 以[`silhouette_score`](https://scikit-learn.org/stable/modules/generated/sklearn.metrics.silhouette_score.html#sklearn-metrics-silhouette-score)方法实现. 该指标大致可以理解为簇间轮廓的清晰程度(的样本平均), 计算公式为:\n",
    "  $$\n",
    "  S := \\frac{1}{N}\\sum_{n=1}^N{\\frac{b_n - a_n}{\\max{\\{a_n, b_n\\}}}},\n",
    "  $$\n",
    "  其中, $n = 1, \\dots, N$遍历所有数据样本, $a_n, b_n$分别表示样本$n$到点$A_n, B_n$的距离. 其中, 点$A_n$为样本$n$所在的簇中心, 点$B_n$为样本$n$所不在的、最近邻的簇中心."
   ]
  },
  {
   "cell_type": "markdown",
   "id": "8de1fa92-e366-4115-be8b-38df9350b897",
   "metadata": {},
   "source": [
    "**任务4**: 完成函数`cluster_on_latent_space`的编写, 输入:\n",
    "- `X`, 待降维的数据;\n",
    "- `reduction_model`, 用于降维的模型;\n",
    "- `y_true`, 真实标签, 本例取为原始表格中的`GroupBlock`一列, 代表元素所属的类别(例如: 碱金属、过渡金属、非金属, 等等);\n",
    "- `n_clusters`: 簇的个数. 为了与真实标签保持统一, 本例默认值取为7, 无需修改.\n",
    "- `random_state`: 用于运行k-means算法的随机数种子. 默认取42, 无需修改.\n",
    "\n",
    "要求对给定的数据`X`利用`reduction_model`进行降维, 再以k-means方法进行聚类分析, 并对聚类结果进行评估. 返回一个二元组: 随机指数相似性、轮廓系数."
   ]
  },
  {
   "cell_type": "code",
   "execution_count": null,
   "id": "3ca07840-b3d4-410a-9151-2a4781433b31",
   "metadata": {},
   "outputs": [],
   "source": [
    "from sklearn.cluster import KMeans\n",
    "from sklearn.metrics import adjusted_rand_score, silhouette_score\n",
    "\n",
    "def cluster_on_latent_space(\n",
    "    X, reduction_model, y_true,\n",
    "    n_clusters: int=7, random_state: int=42\n",
    ") -> Tuple[float, float]:\n",
    "    ### BEGIN YOUR SOLUTION ###\n",
    "    \n",
    "    ### END YOUR SOLUTION ###"
   ]
  },
  {
   "cell_type": "markdown",
   "id": "bcaa4b38-430c-4e1b-a03d-44b82ed1ae2c",
   "metadata": {},
   "source": [
    "$\\quad$完成任务3后, 你可以运行下面的代码块, 对PCA、Isomap和t-SNE的聚类结果进行综合评估."
   ]
  },
  {
   "cell_type": "code",
   "execution_count": null,
   "id": "9a70e896-4cd0-4c5e-9e8d-6c2960750ec8",
   "metadata": {},
   "outputs": [],
   "source": [
    "from sklearn.manifold import Isomap, TSNE\n",
    "from sklearn.preprocessing import LabelEncoder\n",
    "\n",
    "metrics = pd.DataFrame(columns=[\"rand_acc\", \"silhouette_coeff\"], index=[\"PCA\", \"Isomap\", \"t-SNE\"])\n",
    "\n",
    "y_true = LabelEncoder().fit_transform(raw_data[\"GroupBlock\"])\n",
    "n_components = 3\n",
    "for reduction_model, name in (\n",
    "    (PCA(n_components=n_components), \"PCA\"),\n",
    "    (Isomap(n_components=n_components), \"Isomap\"),\n",
    "    (TSNE(n_components=n_components, init=\"pca\", learning_rate=\"auto\", perplexity=30), \"t-SNE\")\n",
    "):\n",
    "    rand_acc, silhouette_coeff = cluster_on_latent_space(X, reduction_model, y_true)\n",
    "    metrics.loc[name, \"rand_acc\"] = rand_acc\n",
    "    metrics.loc[name, \"silhouette_coeff\"] = silhouette_coeff\n",
    "\n",
    "metrics"
   ]
  }
 ],
 "metadata": {
  "kernelspec": {
   "display_name": "Python 3",
   "language": "python",
   "name": "python3"
  },
  "language_info": {
   "codemirror_mode": {
    "name": "ipython",
    "version": 3
   },
   "file_extension": ".py",
   "mimetype": "text/x-python",
   "name": "python",
   "nbconvert_exporter": "python",
   "pygments_lexer": "ipython3",
   "version": "3.8.8"
  }
 },
 "nbformat": 4,
 "nbformat_minor": 5
}
