{
 "cells": [
  {
   "cell_type": "code",
   "execution_count": 5,
   "id": "af311f88-48c6-4e80-a585-cb3fd5005c27",
   "metadata": {},
   "outputs": [],
   "source": [
    "import pandas as pd"
   ]
  },
  {
   "cell_type": "code",
   "execution_count": 1,
   "id": "6b41ef6f-eba3-49ac-854b-cf97efe8b24f",
   "metadata": {},
   "outputs": [],
   "source": [
    "from mp_api.client import routes\n",
    "from pymatgen.core.periodic_table import Element\n",
    "API_KEY = \"fqPPo7Czb5mkbFh8mltlZd0I33csuKv0\"\n",
    "bpr = routes.ElectrodeRester(API_KEY)"
   ]
  },
  {
   "cell_type": "code",
   "execution_count": 2,
   "id": "ed84d7c5-8bb3-4355-99a3-430cfee9be93",
   "metadata": {},
   "outputs": [
    {
     "data": {
      "application/vnd.jupyter.widget-view+json": {
       "model_id": "b450fbccf5bf4603b7aab316d9a5986a",
       "version_major": 2,
       "version_minor": 0
      },
      "text/plain": [
       "Retrieving InsertionElectrodeDoc documents:   0%|          | 0/2440 [00:00<?, ?it/s]"
      ]
     },
     "metadata": {},
     "output_type": "display_data"
    }
   ],
   "source": [
    "docs = bpr.search(working_ion=Element('Li'), all_fields=True)"
   ]
  },
  {
   "cell_type": "code",
   "execution_count": 6,
   "id": "e51c6a80-8316-4b3d-a20a-6d99904f2a92",
   "metadata": {},
   "outputs": [],
   "source": [
    "df = pd.DataFrame(columns=[\"battery_id\", \"battery_formula\", \"framework_formula\", \"formula_charge\", \"formula_discharge\", \"average_voltage\", \n",
    "                           \"capacity_grav\", \"capacity_vol\", \"energy_grav\", \"energy_vol\", \"id_charge\", \"id_discharge\"])\n",
    "for i in docs:\n",
    "    data=[i.battery_id, i.battery_formula, i.framework_formula, i.formula_charge, i.formula_discharge, i.average_voltage, \n",
    "          i.capacity_grav, i.capacity_vol, i.energy_grav, i.energy_vol, i.id_charge, i.id_discharge]\n",
    "    df.loc[len(df)]=data"
   ]
  },
  {
   "cell_type": "code",
   "execution_count": 8,
   "id": "4734c93f-d7df-406c-b947-11749a3dc0ea",
   "metadata": {},
   "outputs": [],
   "source": [
    "df.to_csv(\"battery_data_mp.csv\")"
   ]
  }
 ],
 "metadata": {
  "kernelspec": {
   "display_name": "Python 3",
   "language": "python",
   "name": "python3"
  },
  "language_info": {
   "codemirror_mode": {
    "name": "ipython",
    "version": 3
   },
   "file_extension": ".py",
   "mimetype": "text/x-python",
   "name": "python",
   "nbconvert_exporter": "python",
   "pygments_lexer": "ipython3",
   "version": "3.8.8"
  }
 },
 "nbformat": 4,
 "nbformat_minor": 5
}
