{
 "cells": [
  {
   "cell_type": "code",
   "execution_count": 2,
   "id": "f3fac477-4146-4d9a-8fdf-f0f3da607dc3",
   "metadata": {},
   "outputs": [],
   "source": [
    "import os \n",
    "from pymatgen.core.trajectory import Trajectory\n",
    "from pymatgen.io.vasp.outputs import Xdatcar\n",
    "from pymatgen.core import Structure\n",
    "from pymatgen.analysis.diffusion.analyzer import DiffusionAnalyzer\n",
    "import numpy as np\n",
    "import pickle"
   ]
  },
  {
   "cell_type": "code",
   "execution_count": 10,
   "id": "8ceb1884-d54b-4ed6-b49a-a1b5bbc7ae25",
   "metadata": {},
   "outputs": [],
   "source": [
    "traj = Trajectory.from_file('data/XDATCAR')\n",
    "\n",
    "diff_li = DiffusionAnalyzer.from_structures(traj, \"Li\", 1000, 1, 1)\n",
    "diff_mo = DiffusionAnalyzer.from_structures(traj, \"Mo\", 1000, 1, 1)\n",
    "# diff = DiffusionAnalyzer.from_structures(traj, \"Mn\", 1000, 1, 1)"
   ]
  },
  {
   "cell_type": "code",
   "execution_count": 11,
   "id": "7ddce037-751c-493c-b613-038c0a843e78",
   "metadata": {},
   "outputs": [],
   "source": [
    "dff_li()"
   ]
  },
  {
   "cell_type": "code",
   "execution_count": 5,
   "id": "6efdbe6f-4b90-4bbf-b63b-b1baf7ceb667",
   "metadata": {},
   "outputs": [],
   "source": [
    "C = diff.conductivity"
   ]
  },
  {
   "cell_type": "code",
   "execution_count": 6,
   "id": "67540d67-86df-406c-8618-546812c1d207",
   "metadata": {},
   "outputs": [],
   "source": [
    "with open('result.dat', 'w') as f:\n",
    "    f.write('# AIMD result for Li-ion\\n')\n",
    "    f.write('temp\\tconductivity\\n')\n",
    "    f.write('%d\\t%.2f\\n' %(1000,C))"
   ]
  }
 ],
 "metadata": {
  "kernelspec": {
   "display_name": "Python 3",
   "language": "python",
   "name": "python3"
  },
  "language_info": {
   "codemirror_mode": {
    "name": "ipython",
    "version": 3
   },
   "file_extension": ".py",
   "mimetype": "text/x-python",
   "name": "python",
   "nbconvert_exporter": "python",
   "pygments_lexer": "ipython3",
   "version": "3.10.13"
  }
 },
 "nbformat": 4,
 "nbformat_minor": 5
}
