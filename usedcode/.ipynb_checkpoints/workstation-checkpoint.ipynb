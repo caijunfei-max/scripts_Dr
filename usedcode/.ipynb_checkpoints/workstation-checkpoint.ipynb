{
 "cells": [
  {
   "cell_type": "code",
   "execution_count": 2,
   "id": "906c5112-d6fd-409f-b4e3-19bd3776303f",
   "metadata": {},
   "outputs": [],
   "source": [
    "from pymatgen.core import Structure"
   ]
  },
  {
   "cell_type": "code",
   "execution_count": 4,
   "id": "f5b04cc3-5466-4738-8c37-ba0286a4dd45",
   "metadata": {},
   "outputs": [],
   "source": [
    "poscar = Structure.from_file(\"data/POSCAR\")"
   ]
  },
  {
   "cell_type": "code",
   "execution_count": 7,
   "id": "a2ae70bf-d1ec-4c20-b083-af0d94033a2b",
   "metadata": {},
   "outputs": [
    {
     "data": {
      "text/plain": [
       "dict"
      ]
     },
     "execution_count": 7,
     "metadata": {},
     "output_type": "execute_result"
    }
   ],
   "source": [
    "uValue = {\"Ni\":6.0, \"Mn\":3.9, \"Mn\":4.0, \"Mo\":4.4, \"Nb\":1.5}\n"
   ]
  },
  {
   "cell_type": "code",
   "execution_count": null,
   "id": "8a908451-5b31-429a-8431-fb21b0c8da3a",
   "metadata": {},
   "outputs": [],
   "source": []
  }
 ],
 "metadata": {
  "kernelspec": {
   "display_name": "Python 3",
   "language": "python",
   "name": "python3"
  },
  "language_info": {
   "codemirror_mode": {
    "name": "ipython",
    "version": 3
   },
   "file_extension": ".py",
   "mimetype": "text/x-python",
   "name": "python",
   "nbconvert_exporter": "python",
   "pygments_lexer": "ipython3",
   "version": "3.10.9"
  }
 },
 "nbformat": 4,
 "nbformat_minor": 5
}
