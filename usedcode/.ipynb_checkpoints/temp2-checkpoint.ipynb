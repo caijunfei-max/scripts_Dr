{
 "cells": [
  {
   "cell_type": "code",
   "execution_count": 1,
   "id": "62662fa4-12fa-4010-ae97-0ab991b26ab9",
   "metadata": {},
   "outputs": [],
   "source": [
    "# 写一个判别Li离子周围环境的脚本"
   ]
  },
  {
   "cell_type": "code",
   "execution_count": 1,
   "id": "bbea8338-028d-4ae9-8c37-5671034dcf7c",
   "metadata": {},
   "outputs": [],
   "source": [
    "from pymatgen.core import Structure, Element"
   ]
  },
  {
   "cell_type": "code",
   "execution_count": 3,
   "id": "44d242a1-3864-432d-8d9c-9f7c867e13a3",
   "metadata": {},
   "outputs": [],
   "source": [
    "structure_llo = Structure.from_file(\"data/POSCAR\")\n",
    "# structure_llo[0: 32]"
   ]
  },
  {
   "cell_type": "code",
   "execution_count": 18,
   "id": "e1f0b6e2-a536-4e4c-a92b-32318555c5b5",
   "metadata": {},
   "outputs": [
    {
     "data": {
      "text/plain": [
       "[PeriodicSite: O (-1.1543, -1.5317, 1.5447) [-0.1230, -0.1781, 0.1127],\n",
       " PeriodicSite: Mn (-0.0037, -1.4362, 5.0451) [0.0000, -0.1670, 0.5000],\n",
       " PeriodicSite: Li (-2.3472, -1.3893, 3.3513) [-0.2500, -0.1616, 0.2500],\n",
       " PeriodicSite: O (-1.1543, 1.5317, 1.5447) [-0.1230, 0.1781, 0.1127],\n",
       " PeriodicSite: Li (-2.3453, 0.0000, 0.8287) [-0.2500, 0.0000, 0.0000],\n",
       " PeriodicSite: Mn (-0.0037, 1.4362, 5.0451) [0.0000, 0.1670, 0.5000],\n",
       " PeriodicSite: O (-1.0370, 0.0000, 4.2542) [-0.1102, 0.0000, 0.3854],\n",
       " PeriodicSite: Li (-2.3472, 1.3893, 3.3513) [-0.2500, 0.1616, 0.2500],\n",
       " PeriodicSite: Li (2.3435, -1.3893, 1.6938) [0.2500, -0.1616, 0.2500],\n",
       " PeriodicSite: Mn (-0.0000, -1.4362, -0.0000) [0.0000, -0.1670, 0.0000],\n",
       " PeriodicSite: O (1.1506, -1.5317, 3.5004) [0.1230, -0.1781, 0.3873],\n",
       " PeriodicSite: Li (-0.0019, -2.9103, 2.5225) [0.0000, -0.3384, 0.2500],\n",
       " PeriodicSite: O (1.0332, 0.0000, 0.7908) [0.1102, 0.0000, 0.1146],\n",
       " PeriodicSite: Li (2.3435, 1.3893, 1.6938) [0.2500, 0.1616, 0.2500],\n",
       " PeriodicSite: Mn (0.0000, 1.4362, 0.0000) [0.0000, 0.1670, 0.0000],\n",
       " PeriodicSite: O (1.1506, 1.5317, 3.5004) [0.1230, 0.1781, 0.3873],\n",
       " PeriodicSite: Li (2.3416, 0.0000, 4.2164) [0.2500, 0.0000, 0.5000],\n",
       " PeriodicSite: Li (-0.0019, 2.9103, 2.5225) [0.0000, 0.3384, 0.2500]]"
      ]
     },
     "execution_count": 18,
     "metadata": {},
     "output_type": "execute_result"
    }
   ],
   "source": [
    "site = structure_llo[16]\n",
    "# a = structure_llo.get_neighbors(site, r=2.7)[0].coords\n",
    "b = structure_llo.get_neighbors(site, r=2.915)\n",
    "# neighbor_list = structure_llo.get_neighbor_list(r=2.8,sites = structure_llo[0:1])\n",
    "\n",
    "b"
   ]
  },
  {
   "cell_type": "code",
   "execution_count": 4,
   "id": "dfcfb1c3-3985-42f5-8f59-5c22e0a66f90",
   "metadata": {},
   "outputs": [
    {
     "data": {
      "text/plain": [
       "str"
      ]
     },
     "execution_count": 4,
     "metadata": {},
     "output_type": "execute_result"
    }
   ],
   "source": [
    "def ele_extract(neighbor):\n",
    "    iterator = iter(neighbor.species.as_dict())\n",
    "    first_key = next(iterator)\n",
    "    return first_key\n",
    "\n",
    "type(ele_extract(a))"
   ]
  },
  {
   "cell_type": "markdown",
   "id": "50fd7cd1-2738-46f3-ab61-46d6b9e0384c",
   "metadata": {},
   "source": [
    "判断锂位点第一近邻的金属离子"
   ]
  },
  {
   "cell_type": "code",
   "execution_count": 34,
   "id": "41e7f4b4-1677-44cf-a8c9-579322e542d2",
   "metadata": {},
   "outputs": [
    {
     "data": {
      "text/plain": [
       "[0,\n",
       " 1,\n",
       " 2,\n",
       " 3,\n",
       " 4,\n",
       " 5,\n",
       " 6,\n",
       " 7,\n",
       " 8,\n",
       " 9,\n",
       " 10,\n",
       " 11,\n",
       " 12,\n",
       " 13,\n",
       " 14,\n",
       " 15,\n",
       " 16,\n",
       " 17,\n",
       " 18,\n",
       " 19,\n",
       " 20,\n",
       " 21,\n",
       " 22,\n",
       " 23,\n",
       " 24,\n",
       " 25,\n",
       " 26,\n",
       " 27,\n",
       " 28,\n",
       " 29,\n",
       " 30,\n",
       " 31]"
      ]
     },
     "execution_count": 34,
     "metadata": {},
     "output_type": "execute_result"
    }
   ],
   "source": [
    "li_index = [i for i in range(32)]\n",
    "for index in li_index:\n",
    "    radius = 2.0\n",
    "    while radius < 3.0:\n",
    "        neighbors = structure_llo.get_neighbors(site=structure_llo[index], r=radius)\n",
    "        d_metal= 0\n",
    "        for neighbor_index in len(neighbors):\n",
    "            ele = ele_extract(neighbors)[neighbor_index]\n",
    "            if ele = 'O':\n",
    "                continue\n",
    "            else:\n",
    "                break\n",
    "        if d_metal "
   ]
  },
  {
   "cell_type": "code",
   "execution_count": 8,
   "id": "fd9842bd-6ee7-473d-8c6a-4df6c051ded9",
   "metadata": {},
   "outputs": [
    {
     "data": {
      "text/plain": [
       "float"
      ]
     },
     "execution_count": 8,
     "metadata": {},
     "output_type": "execute_result"
    }
   ],
   "source": []
  }
 ],
 "metadata": {
  "kernelspec": {
   "display_name": "Python 3",
   "language": "python",
   "name": "python3"
  },
  "language_info": {
   "codemirror_mode": {
    "name": "ipython",
    "version": 3
   },
   "file_extension": ".py",
   "mimetype": "text/x-python",
   "name": "python",
   "nbconvert_exporter": "python",
   "pygments_lexer": "ipython3",
   "version": "3.8.8"
  }
 },
 "nbformat": 4,
 "nbformat_minor": 5
}
