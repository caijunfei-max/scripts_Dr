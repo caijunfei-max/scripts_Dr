{
 "cells": [
  {
   "cell_type": "code",
   "execution_count": 7,
   "id": "a3bf63df-7b26-49d3-8e59-85a91682eb97",
   "metadata": {},
   "outputs": [],
   "source": [
    "with open(\"data/XDATCAR_1\", \"r\", encoding='utf-8') as f: \n",
    "    data_1 = f.readlines()\n",
    "    f.close()\n",
    "\n",
    "with open(\"data/XDATCAR_2\", \"r\", encoding='utf-8') as f: \n",
    "    data_2 = f.readlines()\n",
    "    f.close()"
   ]
  },
  {
   "cell_type": "code",
   "execution_count": 16,
   "id": "33209f1c-3a3c-4359-a09f-de62efbb1a85",
   "metadata": {},
   "outputs": [
    {
     "data": {
      "text/plain": [
       "2"
      ]
     },
     "execution_count": 16,
     "metadata": {},
     "output_type": "execute_result"
    }
   ],
   "source": [
    "type(data_1[3])\n",
    "confi_i = data_2[8:105]\n",
    "b"
   ]
  },
  {
   "cell_type": "code",
   "execution_count": 21,
   "id": "909673cb-0954-4297-9c2a-f581da045ff6",
   "metadata": {},
   "outputs": [],
   "source": [
    "# data_confi = []\n",
    "# for i in data_1:\n",
    "#      if \"Direct configuration\" in i:\n",
    "#             index_i = data_1.index(i)\n",
    "#             a = index_i+1\n",
    "#             b = index_i+97\n",
    "#             confi_i = data_1[a : b]\n",
    "#             data_confi.append(confi_i)\n",
    "\n",
    "\n",
    "            \n"
   ]
  },
  {
   "cell_type": "code",
   "execution_count": 29,
   "id": "2e9dc7f3-6cc5-4e0f-a086-963ecd0558a1",
   "metadata": {},
   "outputs": [],
   "source": [
    "def xdatcar_extract(file_path, atoms_num):\n",
    "    with open(file_path, \"r\", encoding='utf-8') as f:\n",
    "        data = f.readlines()\n",
    "        f.close()\n",
    "    \n",
    "    data_confi = []\n",
    "    for i in data:\n",
    "        if \"Direct configuration\" in i:\n",
    "            index_i = data.index(i)\n",
    "            a = index_i+1\n",
    "            b = a+atoms_num\n",
    "            confi_i = data[a: b]\n",
    "            data_confi.append(confi_i)\n",
    "    return data_confi"
   ]
  },
  {
   "cell_type": "code",
   "execution_count": 32,
   "id": "92b3e2ab-5184-43a5-822b-34042b16c9ba",
   "metadata": {},
   "outputs": [],
   "source": [
    "list_confi = xdatcar_extract(\"data/XDATCAR_1\", 96)\n"
   ]
  },
  {
   "cell_type": "code",
   "execution_count": null,
   "id": "a96360fa-b83b-466c-88a7-f6f1beb75114",
   "metadata": {},
   "outputs": [],
   "source": [
    "def xdatcar_splice(path_list):\n",
    "    # 输入数据应该是一个列表，里面包括所有的xdatcar的路径，仅限于同体系的拼接，不同系统的得到的是个错误的xdatcar\n",
    "    with open(path_list[0], 'r', encoding='utf-8') as f:\n",
    "        \n",
    "    confi = []\n",
    "    for i in path_list:\n",
    "        \n",
    "        "
   ]
  }
 ],
 "metadata": {
  "kernelspec": {
   "display_name": "Python 3",
   "language": "python",
   "name": "python3"
  },
  "language_info": {
   "codemirror_mode": {
    "name": "ipython",
    "version": 3
   },
   "file_extension": ".py",
   "mimetype": "text/x-python",
   "name": "python",
   "nbconvert_exporter": "python",
   "pygments_lexer": "ipython3",
   "version": "3.8.8"
  }
 },
 "nbformat": 4,
 "nbformat_minor": 5
}
